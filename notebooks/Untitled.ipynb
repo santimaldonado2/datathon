{
 "cells": [
  {
   "cell_type": "code",
   "execution_count": 2,
   "metadata": {},
   "outputs": [],
   "source": [
    "import sys\n",
    "import os\n",
    "sys.path.insert(0, os.path.abspath('/home/maldo/projects/virtualenvs/datathon/lib/python3.7/site-packages'))"
   ]
  },
  {
   "cell_type": "code",
   "execution_count": 3,
   "metadata": {},
   "outputs": [],
   "source": [
    "from imblearn.under_sampling import *\n",
    "from imblearn.over_sampling import *\n",
    "from imblearn.combine import *"
   ]
  },
  {
   "cell_type": "code",
   "execution_count": 4,
   "metadata": {},
   "outputs": [],
   "source": [
    "sys.path.insert(0, os.path.abspath('/home/maldo/projects/datathon'))\n",
    "from src.models.model import SoilClassifier\n",
    "from src.constants import *\n",
    "from src.features.features import get_features, ImbalanceTransformer, ScalerTransformer\n",
    "from src.experiments.experiments import run_experiment\n",
    "from sklearn.preprocessing import StandardScaler\n",
    "from sklearn.pipeline import Pipeline\n",
    "import pandas as pd\n",
    "import seaborn as sns\n",
    "import math"
   ]
  },
  {
   "cell_type": "code",
   "execution_count": 5,
   "metadata": {},
   "outputs": [],
   "source": [
    "df = pd.read_csv(os.path.join('../data/processed', 'train_data_imbalanced.csv'))\n",
    "df_test1 = pd.read_csv(os.path.join('../data/processed', 'test_data_balanced.csv'))\n",
    "df_test2 = pd.read_csv(os.path.join('../data/processed', 'test_data_imbalanced.csv'))"
   ]
  },
  {
   "cell_type": "code",
   "execution_count": 6,
   "metadata": {},
   "outputs": [],
   "source": [
    "df_estimar = pd.read_csv(os.path.join('../data/raw', ESTIMATE_RAW_DATA_SET), sep='|')"
   ]
  },
  {
   "cell_type": "code",
   "execution_count": 7,
   "metadata": {},
   "outputs": [
    {
     "data": {
      "text/html": [
       "<div>\n",
       "<style scoped>\n",
       "    .dataframe tbody tr th:only-of-type {\n",
       "        vertical-align: middle;\n",
       "    }\n",
       "\n",
       "    .dataframe tbody tr th {\n",
       "        vertical-align: top;\n",
       "    }\n",
       "\n",
       "    .dataframe thead th {\n",
       "        text-align: right;\n",
       "    }\n",
       "</style>\n",
       "<table border=\"1\" class=\"dataframe\">\n",
       "  <thead>\n",
       "    <tr style=\"text-align: right;\">\n",
       "      <th></th>\n",
       "      <th>ID</th>\n",
       "      <th>X</th>\n",
       "      <th>Y</th>\n",
       "      <th>Q_R_4_0_0</th>\n",
       "      <th>Q_R_4_0_1</th>\n",
       "      <th>Q_R_4_0_2</th>\n",
       "      <th>Q_R_4_0_3</th>\n",
       "      <th>Q_R_4_0_4</th>\n",
       "      <th>Q_R_4_0_5</th>\n",
       "      <th>Q_R_4_0_6</th>\n",
       "      <th>...</th>\n",
       "      <th>Q_NIR_8_0_9</th>\n",
       "      <th>Q_NIR_8_1_0</th>\n",
       "      <th>AREA</th>\n",
       "      <th>GEOM_R1</th>\n",
       "      <th>GEOM_R2</th>\n",
       "      <th>GEOM_R3</th>\n",
       "      <th>GEOM_R4</th>\n",
       "      <th>CONTRUCTIONYEAR</th>\n",
       "      <th>MAXBUILDINGFLOOR</th>\n",
       "      <th>CADASTRALQUALITYID</th>\n",
       "    </tr>\n",
       "  </thead>\n",
       "  <tbody>\n",
       "    <tr>\n",
       "      <th>0</th>\n",
       "      <td>44198C2A811A4DF4</td>\n",
       "      <td>2200905624</td>\n",
       "      <td>165480229</td>\n",
       "      <td>1.105847e-06</td>\n",
       "      <td>445.999637</td>\n",
       "      <td>634.001172</td>\n",
       "      <td>780.000568</td>\n",
       "      <td>902.004053</td>\n",
       "      <td>1025.997009</td>\n",
       "      <td>1157.997681</td>\n",
       "      <td>...</td>\n",
       "      <td>2545.997754</td>\n",
       "      <td>6803.875107</td>\n",
       "      <td>283.593030</td>\n",
       "      <td>0.046741</td>\n",
       "      <td>0.014588</td>\n",
       "      <td>0.011298</td>\n",
       "      <td>0.774503</td>\n",
       "      <td>1994</td>\n",
       "      <td>5.0</td>\n",
       "      <td>4</td>\n",
       "    </tr>\n",
       "    <tr>\n",
       "      <th>1</th>\n",
       "      <td>216F638609E0E39E</td>\n",
       "      <td>2207436564</td>\n",
       "      <td>165625751</td>\n",
       "      <td>0.000000e+00</td>\n",
       "      <td>385.000995</td>\n",
       "      <td>580.005762</td>\n",
       "      <td>737.004449</td>\n",
       "      <td>873.996460</td>\n",
       "      <td>1005.998779</td>\n",
       "      <td>1141.001758</td>\n",
       "      <td>...</td>\n",
       "      <td>2220.990137</td>\n",
       "      <td>5544.670485</td>\n",
       "      <td>357.712450</td>\n",
       "      <td>0.378483</td>\n",
       "      <td>0.041085</td>\n",
       "      <td>0.025753</td>\n",
       "      <td>0.626835</td>\n",
       "      <td>1968</td>\n",
       "      <td>8.0</td>\n",
       "      <td>3</td>\n",
       "    </tr>\n",
       "    <tr>\n",
       "      <th>2</th>\n",
       "      <td>FFFCEFB11E257364</td>\n",
       "      <td>2200313961</td>\n",
       "      <td>165752898</td>\n",
       "      <td>0.000000e+00</td>\n",
       "      <td>343.996613</td>\n",
       "      <td>567.010620</td>\n",
       "      <td>745.995483</td>\n",
       "      <td>900.997925</td>\n",
       "      <td>1051.995361</td>\n",
       "      <td>1200.006226</td>\n",
       "      <td>...</td>\n",
       "      <td>2421.002441</td>\n",
       "      <td>8827.104856</td>\n",
       "      <td>160.979017</td>\n",
       "      <td>0.306545</td>\n",
       "      <td>0.034637</td>\n",
       "      <td>0.054977</td>\n",
       "      <td>1.587207</td>\n",
       "      <td>1968</td>\n",
       "      <td>5.0</td>\n",
       "      <td>7</td>\n",
       "    </tr>\n",
       "    <tr>\n",
       "      <th>3</th>\n",
       "      <td>596C5C8CE10BCF</td>\n",
       "      <td>2199220382</td>\n",
       "      <td>166288192</td>\n",
       "      <td>0.000000e+00</td>\n",
       "      <td>173.999956</td>\n",
       "      <td>218.000000</td>\n",
       "      <td>261.999713</td>\n",
       "      <td>315.999951</td>\n",
       "      <td>408.000565</td>\n",
       "      <td>560.000500</td>\n",
       "      <td>...</td>\n",
       "      <td>2752.005786</td>\n",
       "      <td>7734.759269</td>\n",
       "      <td>9088.678448</td>\n",
       "      <td>0.338955</td>\n",
       "      <td>0.006846</td>\n",
       "      <td>0.005448</td>\n",
       "      <td>0.795725</td>\n",
       "      <td>1993</td>\n",
       "      <td>6.0</td>\n",
       "      <td>6</td>\n",
       "    </tr>\n",
       "    <tr>\n",
       "      <th>4</th>\n",
       "      <td>F931B9FA2A8641D1</td>\n",
       "      <td>2209143550</td>\n",
       "      <td>165253334</td>\n",
       "      <td>6.931730e-06</td>\n",
       "      <td>588.002014</td>\n",
       "      <td>738.999451</td>\n",
       "      <td>848.001282</td>\n",
       "      <td>954.000244</td>\n",
       "      <td>1074.000183</td>\n",
       "      <td>1228.998291</td>\n",
       "      <td>...</td>\n",
       "      <td>2712.997681</td>\n",
       "      <td>7435.991490</td>\n",
       "      <td>994.424368</td>\n",
       "      <td>0.581476</td>\n",
       "      <td>0.036470</td>\n",
       "      <td>0.016033</td>\n",
       "      <td>0.439638</td>\n",
       "      <td>1964</td>\n",
       "      <td>4.0</td>\n",
       "      <td>7</td>\n",
       "    </tr>\n",
       "    <tr>\n",
       "      <th>...</th>\n",
       "      <td>...</td>\n",
       "      <td>...</td>\n",
       "      <td>...</td>\n",
       "      <td>...</td>\n",
       "      <td>...</td>\n",
       "      <td>...</td>\n",
       "      <td>...</td>\n",
       "      <td>...</td>\n",
       "      <td>...</td>\n",
       "      <td>...</td>\n",
       "      <td>...</td>\n",
       "      <td>...</td>\n",
       "      <td>...</td>\n",
       "      <td>...</td>\n",
       "      <td>...</td>\n",
       "      <td>...</td>\n",
       "      <td>...</td>\n",
       "      <td>...</td>\n",
       "      <td>...</td>\n",
       "      <td>...</td>\n",
       "      <td>...</td>\n",
       "    </tr>\n",
       "    <tr>\n",
       "      <th>5613</th>\n",
       "      <td>EEDC412322324F11</td>\n",
       "      <td>2150225841</td>\n",
       "      <td>165784181</td>\n",
       "      <td>2.970924e-11</td>\n",
       "      <td>244.000557</td>\n",
       "      <td>308.999573</td>\n",
       "      <td>358.000412</td>\n",
       "      <td>404.001129</td>\n",
       "      <td>452.999222</td>\n",
       "      <td>505.999176</td>\n",
       "      <td>...</td>\n",
       "      <td>2649.989014</td>\n",
       "      <td>4584.445266</td>\n",
       "      <td>92.647868</td>\n",
       "      <td>0.145280</td>\n",
       "      <td>0.040899</td>\n",
       "      <td>0.038341</td>\n",
       "      <td>0.937447</td>\n",
       "      <td>1971</td>\n",
       "      <td>1.0</td>\n",
       "      <td>5</td>\n",
       "    </tr>\n",
       "    <tr>\n",
       "      <th>5614</th>\n",
       "      <td>C3ED06EF07E7B00D</td>\n",
       "      <td>2192030837</td>\n",
       "      <td>165800127</td>\n",
       "      <td>0.000000e+00</td>\n",
       "      <td>325.001498</td>\n",
       "      <td>513.997632</td>\n",
       "      <td>659.003906</td>\n",
       "      <td>794.994531</td>\n",
       "      <td>920.503754</td>\n",
       "      <td>1056.002026</td>\n",
       "      <td>...</td>\n",
       "      <td>2586.998071</td>\n",
       "      <td>6249.828995</td>\n",
       "      <td>152.576523</td>\n",
       "      <td>0.533303</td>\n",
       "      <td>0.030339</td>\n",
       "      <td>0.115207</td>\n",
       "      <td>3.797293</td>\n",
       "      <td>1945</td>\n",
       "      <td>1.0</td>\n",
       "      <td>5</td>\n",
       "    </tr>\n",
       "    <tr>\n",
       "      <th>5615</th>\n",
       "      <td>C9625D1602A319E5</td>\n",
       "      <td>2169540519</td>\n",
       "      <td>165519808</td>\n",
       "      <td>1.494801e-06</td>\n",
       "      <td>162.000359</td>\n",
       "      <td>198.000610</td>\n",
       "      <td>245.000572</td>\n",
       "      <td>329.001068</td>\n",
       "      <td>493.999451</td>\n",
       "      <td>700.002563</td>\n",
       "      <td>...</td>\n",
       "      <td>2871.995728</td>\n",
       "      <td>6006.857875</td>\n",
       "      <td>97.198486</td>\n",
       "      <td>0.550830</td>\n",
       "      <td>0.064267</td>\n",
       "      <td>0.088180</td>\n",
       "      <td>1.372074</td>\n",
       "      <td>1999</td>\n",
       "      <td>1.0</td>\n",
       "      <td>4</td>\n",
       "    </tr>\n",
       "    <tr>\n",
       "      <th>5616</th>\n",
       "      <td>3A42595E9285B866</td>\n",
       "      <td>2225905882</td>\n",
       "      <td>165629885</td>\n",
       "      <td>0.000000e+00</td>\n",
       "      <td>316.997635</td>\n",
       "      <td>503.003845</td>\n",
       "      <td>655.999390</td>\n",
       "      <td>798.997314</td>\n",
       "      <td>941.999359</td>\n",
       "      <td>1097.001221</td>\n",
       "      <td>...</td>\n",
       "      <td>2347.998413</td>\n",
       "      <td>5448.082132</td>\n",
       "      <td>154.021555</td>\n",
       "      <td>0.486815</td>\n",
       "      <td>0.052910</td>\n",
       "      <td>0.059737</td>\n",
       "      <td>1.129032</td>\n",
       "      <td>1964</td>\n",
       "      <td>4.0</td>\n",
       "      <td>6</td>\n",
       "    </tr>\n",
       "    <tr>\n",
       "      <th>5617</th>\n",
       "      <td>09E10CFCA9CD293B</td>\n",
       "      <td>2201665941</td>\n",
       "      <td>165343010</td>\n",
       "      <td>0.000000e+00</td>\n",
       "      <td>417.004150</td>\n",
       "      <td>604.000488</td>\n",
       "      <td>747.999847</td>\n",
       "      <td>879.998291</td>\n",
       "      <td>1012.995789</td>\n",
       "      <td>1155.998779</td>\n",
       "      <td>...</td>\n",
       "      <td>2959.003906</td>\n",
       "      <td>6362.581070</td>\n",
       "      <td>231.906153</td>\n",
       "      <td>0.653992</td>\n",
       "      <td>0.069781</td>\n",
       "      <td>0.040413</td>\n",
       "      <td>0.579139</td>\n",
       "      <td>1986</td>\n",
       "      <td>3.0</td>\n",
       "      <td>6</td>\n",
       "    </tr>\n",
       "  </tbody>\n",
       "</table>\n",
       "<p>5618 rows × 55 columns</p>\n",
       "</div>"
      ],
      "text/plain": [
       "                    ID           X          Y     Q_R_4_0_0   Q_R_4_0_1  \\\n",
       "0     44198C2A811A4DF4  2200905624  165480229  1.105847e-06  445.999637   \n",
       "1     216F638609E0E39E  2207436564  165625751  0.000000e+00  385.000995   \n",
       "2     FFFCEFB11E257364  2200313961  165752898  0.000000e+00  343.996613   \n",
       "3       596C5C8CE10BCF  2199220382  166288192  0.000000e+00  173.999956   \n",
       "4     F931B9FA2A8641D1  2209143550  165253334  6.931730e-06  588.002014   \n",
       "...                ...         ...        ...           ...         ...   \n",
       "5613  EEDC412322324F11  2150225841  165784181  2.970924e-11  244.000557   \n",
       "5614  C3ED06EF07E7B00D  2192030837  165800127  0.000000e+00  325.001498   \n",
       "5615  C9625D1602A319E5  2169540519  165519808  1.494801e-06  162.000359   \n",
       "5616  3A42595E9285B866  2225905882  165629885  0.000000e+00  316.997635   \n",
       "5617  09E10CFCA9CD293B  2201665941  165343010  0.000000e+00  417.004150   \n",
       "\n",
       "       Q_R_4_0_2   Q_R_4_0_3   Q_R_4_0_4    Q_R_4_0_5    Q_R_4_0_6  ...  \\\n",
       "0     634.001172  780.000568  902.004053  1025.997009  1157.997681  ...   \n",
       "1     580.005762  737.004449  873.996460  1005.998779  1141.001758  ...   \n",
       "2     567.010620  745.995483  900.997925  1051.995361  1200.006226  ...   \n",
       "3     218.000000  261.999713  315.999951   408.000565   560.000500  ...   \n",
       "4     738.999451  848.001282  954.000244  1074.000183  1228.998291  ...   \n",
       "...          ...         ...         ...          ...          ...  ...   \n",
       "5613  308.999573  358.000412  404.001129   452.999222   505.999176  ...   \n",
       "5614  513.997632  659.003906  794.994531   920.503754  1056.002026  ...   \n",
       "5615  198.000610  245.000572  329.001068   493.999451   700.002563  ...   \n",
       "5616  503.003845  655.999390  798.997314   941.999359  1097.001221  ...   \n",
       "5617  604.000488  747.999847  879.998291  1012.995789  1155.998779  ...   \n",
       "\n",
       "      Q_NIR_8_0_9  Q_NIR_8_1_0         AREA   GEOM_R1   GEOM_R2   GEOM_R3  \\\n",
       "0     2545.997754  6803.875107   283.593030  0.046741  0.014588  0.011298   \n",
       "1     2220.990137  5544.670485   357.712450  0.378483  0.041085  0.025753   \n",
       "2     2421.002441  8827.104856   160.979017  0.306545  0.034637  0.054977   \n",
       "3     2752.005786  7734.759269  9088.678448  0.338955  0.006846  0.005448   \n",
       "4     2712.997681  7435.991490   994.424368  0.581476  0.036470  0.016033   \n",
       "...           ...          ...          ...       ...       ...       ...   \n",
       "5613  2649.989014  4584.445266    92.647868  0.145280  0.040899  0.038341   \n",
       "5614  2586.998071  6249.828995   152.576523  0.533303  0.030339  0.115207   \n",
       "5615  2871.995728  6006.857875    97.198486  0.550830  0.064267  0.088180   \n",
       "5616  2347.998413  5448.082132   154.021555  0.486815  0.052910  0.059737   \n",
       "5617  2959.003906  6362.581070   231.906153  0.653992  0.069781  0.040413   \n",
       "\n",
       "       GEOM_R4  CONTRUCTIONYEAR  MAXBUILDINGFLOOR  CADASTRALQUALITYID  \n",
       "0     0.774503             1994               5.0                   4  \n",
       "1     0.626835             1968               8.0                   3  \n",
       "2     1.587207             1968               5.0                   7  \n",
       "3     0.795725             1993               6.0                   6  \n",
       "4     0.439638             1964               4.0                   7  \n",
       "...        ...              ...               ...                 ...  \n",
       "5613  0.937447             1971               1.0                   5  \n",
       "5614  3.797293             1945               1.0                   5  \n",
       "5615  1.372074             1999               1.0                   4  \n",
       "5616  1.129032             1964               4.0                   6  \n",
       "5617  0.579139             1986               3.0                   6  \n",
       "\n",
       "[5618 rows x 55 columns]"
      ]
     },
     "execution_count": 7,
     "metadata": {},
     "output_type": "execute_result"
    }
   ],
   "source": [
    "df_estimar"
   ]
  },
  {
   "cell_type": "code",
   "execution_count": 8,
   "metadata": {
    "scrolled": true
   },
   "outputs": [
    {
     "data": {
      "text/plain": [
       "{'test': {'accuracy': 0.5923270683975974,\n",
       "  'balanced_accuracy': 0.5225523449051976,\n",
       "  'precision_macro': 0.6131835758187263,\n",
       "  'precision_weighted': 0.5987411466429484,\n",
       "  'recall_macro': 0.5225523449051976,\n",
       "  'recall_weighted': 0.5923270683975974,\n",
       "  'f1_macro': 0.5335994213145311,\n",
       "  'f1_weighted': 0.5647290430635726}}"
      ]
     },
     "execution_count": 8,
     "metadata": {},
     "output_type": "execute_result"
    }
   ],
   "source": [
    "classifier1 = SoilClassifier()\n",
    "\n",
    "classifier1.load('../src/experiments/results/balanced_6_gradient_boosting_500_5000_scaled.pkl')\n",
    "\n",
    "classifier1.evaluate(df_test1, df_test1[TARGET_FEATURE])\n",
    "\n",
    "classifier1.metrics"
   ]
  },
  {
   "cell_type": "code",
   "execution_count": 9,
   "metadata": {},
   "outputs": [],
   "source": [
    "predictions_1 =  classifier1.predict(df_estimar.copy())"
   ]
  },
  {
   "cell_type": "code",
   "execution_count": 12,
   "metadata": {},
   "outputs": [
    {
     "data": {
      "text/plain": [
       "{'test': {'accuracy': 0.8538215634989829,\n",
       "  'balanced_accuracy': 0.48565467612776014,\n",
       "  'precision_macro': 0.4749710635254955,\n",
       "  'precision_weighted': 0.8752377128367731,\n",
       "  'recall_macro': 0.48565467612776014,\n",
       "  'recall_weighted': 0.8538215634989829,\n",
       "  'f1_macro': 0.46292777816764563,\n",
       "  'f1_weighted': 0.861209403477862}}"
      ]
     },
     "execution_count": 12,
     "metadata": {},
     "output_type": "execute_result"
    }
   ],
   "source": [
    "classifier2 = SoilClassifier()\n",
    "\n",
    "classifier2.load('../src/experiments/results/imbalanced_1_gradient_boosting_500_9000_scaled.pkl')\n",
    "\n",
    "classifier2.evaluate(df_test2,df_test2[TARGET_FEATURE])\n",
    "\n",
    "classifier2.metrics"
   ]
  },
  {
   "cell_type": "code",
   "execution_count": 10,
   "metadata": {},
   "outputs": [],
   "source": [
    "predictions_2 =  classifier2.predict(df_estimar.copy())"
   ]
  },
  {
   "cell_type": "code",
   "execution_count": 11,
   "metadata": {},
   "outputs": [],
   "source": [
    "df_estimar['CLASE1'] = predictions_1\n",
    "df_estimar['CLASE2'] = predictions_2\n"
   ]
  },
  {
   "cell_type": "code",
   "execution_count": 13,
   "metadata": {},
   "outputs": [
    {
     "data": {
      "text/html": [
       "<div>\n",
       "<style scoped>\n",
       "    .dataframe tbody tr th:only-of-type {\n",
       "        vertical-align: middle;\n",
       "    }\n",
       "\n",
       "    .dataframe tbody tr th {\n",
       "        vertical-align: top;\n",
       "    }\n",
       "\n",
       "    .dataframe thead th {\n",
       "        text-align: right;\n",
       "    }\n",
       "</style>\n",
       "<table border=\"1\" class=\"dataframe\">\n",
       "  <thead>\n",
       "    <tr style=\"text-align: right;\">\n",
       "      <th></th>\n",
       "      <th>ID</th>\n",
       "      <th>CLASE1</th>\n",
       "    </tr>\n",
       "  </thead>\n",
       "  <tbody>\n",
       "    <tr>\n",
       "      <th>0</th>\n",
       "      <td>44198C2A811A4DF4</td>\n",
       "      <td>PUBLIC</td>\n",
       "    </tr>\n",
       "    <tr>\n",
       "      <th>1</th>\n",
       "      <td>216F638609E0E39E</td>\n",
       "      <td>RESIDENTIAL</td>\n",
       "    </tr>\n",
       "    <tr>\n",
       "      <th>2</th>\n",
       "      <td>FFFCEFB11E257364</td>\n",
       "      <td>RESIDENTIAL</td>\n",
       "    </tr>\n",
       "    <tr>\n",
       "      <th>3</th>\n",
       "      <td>596C5C8CE10BCF</td>\n",
       "      <td>OFFICE</td>\n",
       "    </tr>\n",
       "    <tr>\n",
       "      <th>4</th>\n",
       "      <td>F931B9FA2A8641D1</td>\n",
       "      <td>OTHER</td>\n",
       "    </tr>\n",
       "  </tbody>\n",
       "</table>\n",
       "</div>"
      ],
      "text/plain": [
       "                 ID       CLASE1\n",
       "0  44198C2A811A4DF4       PUBLIC\n",
       "1  216F638609E0E39E  RESIDENTIAL\n",
       "2  FFFCEFB11E257364  RESIDENTIAL\n",
       "3    596C5C8CE10BCF       OFFICE\n",
       "4  F931B9FA2A8641D1        OTHER"
      ]
     },
     "execution_count": 13,
     "metadata": {},
     "output_type": "execute_result"
    }
   ],
   "source": [
    "df_estimar[['ID','CLASE1']].head()"
   ]
  },
  {
   "cell_type": "code",
   "execution_count": 14,
   "metadata": {},
   "outputs": [
    {
     "data": {
      "text/html": [
       "<div>\n",
       "<style scoped>\n",
       "    .dataframe tbody tr th:only-of-type {\n",
       "        vertical-align: middle;\n",
       "    }\n",
       "\n",
       "    .dataframe tbody tr th {\n",
       "        vertical-align: top;\n",
       "    }\n",
       "\n",
       "    .dataframe thead th {\n",
       "        text-align: right;\n",
       "    }\n",
       "</style>\n",
       "<table border=\"1\" class=\"dataframe\">\n",
       "  <thead>\n",
       "    <tr style=\"text-align: right;\">\n",
       "      <th></th>\n",
       "      <th>ID</th>\n",
       "      <th>CLASE2</th>\n",
       "    </tr>\n",
       "  </thead>\n",
       "  <tbody>\n",
       "    <tr>\n",
       "      <th>0</th>\n",
       "      <td>44198C2A811A4DF4</td>\n",
       "      <td>PUBLIC</td>\n",
       "    </tr>\n",
       "    <tr>\n",
       "      <th>1</th>\n",
       "      <td>216F638609E0E39E</td>\n",
       "      <td>RESIDENTIAL</td>\n",
       "    </tr>\n",
       "    <tr>\n",
       "      <th>2</th>\n",
       "      <td>FFFCEFB11E257364</td>\n",
       "      <td>RESIDENTIAL</td>\n",
       "    </tr>\n",
       "    <tr>\n",
       "      <th>3</th>\n",
       "      <td>596C5C8CE10BCF</td>\n",
       "      <td>OFFICE</td>\n",
       "    </tr>\n",
       "    <tr>\n",
       "      <th>4</th>\n",
       "      <td>F931B9FA2A8641D1</td>\n",
       "      <td>INDUSTRIAL</td>\n",
       "    </tr>\n",
       "  </tbody>\n",
       "</table>\n",
       "</div>"
      ],
      "text/plain": [
       "                 ID       CLASE2\n",
       "0  44198C2A811A4DF4       PUBLIC\n",
       "1  216F638609E0E39E  RESIDENTIAL\n",
       "2  FFFCEFB11E257364  RESIDENTIAL\n",
       "3    596C5C8CE10BCF       OFFICE\n",
       "4  F931B9FA2A8641D1   INDUSTRIAL"
      ]
     },
     "execution_count": 14,
     "metadata": {},
     "output_type": "execute_result"
    }
   ],
   "source": [
    "df_estimar[['ID','CLASE2']].head()"
   ]
  },
  {
   "cell_type": "code",
   "execution_count": 12,
   "metadata": {},
   "outputs": [
    {
     "data": {
      "text/plain": [
       "RESIDENTIAL    3002\n",
       "INDUSTRIAL     1090\n",
       "PUBLIC          759\n",
       "OFFICE          332\n",
       "OTHER           213\n",
       "RETAIL          119\n",
       "AGRICULTURE     103\n",
       "Name: CLASE1, dtype: int64"
      ]
     },
     "execution_count": 12,
     "metadata": {},
     "output_type": "execute_result"
    }
   ],
   "source": [
    "df_estimar.CLASE1.value_counts()"
   ]
  },
  {
   "cell_type": "code",
   "execution_count": 13,
   "metadata": {},
   "outputs": [
    {
     "data": {
      "text/plain": [
       "RESIDENTIAL    3266\n",
       "INDUSTRIAL     1015\n",
       "PUBLIC          686\n",
       "OFFICE          270\n",
       "OTHER           178\n",
       "RETAIL          106\n",
       "AGRICULTURE      97\n",
       "Name: CLASE2, dtype: int64"
      ]
     },
     "execution_count": 13,
     "metadata": {},
     "output_type": "execute_result"
    }
   ],
   "source": [
    "df_estimar.CLASE2.value_counts()"
   ]
  },
  {
   "cell_type": "code",
   "execution_count": 15,
   "metadata": {},
   "outputs": [
    {
     "data": {
      "text/html": [
       "<div>\n",
       "<style scoped>\n",
       "    .dataframe tbody tr th:only-of-type {\n",
       "        vertical-align: middle;\n",
       "    }\n",
       "\n",
       "    .dataframe tbody tr th {\n",
       "        vertical-align: top;\n",
       "    }\n",
       "\n",
       "    .dataframe thead th {\n",
       "        text-align: right;\n",
       "    }\n",
       "</style>\n",
       "<table border=\"1\" class=\"dataframe\">\n",
       "  <thead>\n",
       "    <tr style=\"text-align: right;\">\n",
       "      <th></th>\n",
       "      <th>ID</th>\n",
       "      <th>X</th>\n",
       "      <th>Y</th>\n",
       "      <th>Q_R_4_0_0</th>\n",
       "      <th>Q_R_4_0_1</th>\n",
       "      <th>Q_R_4_0_2</th>\n",
       "      <th>Q_R_4_0_3</th>\n",
       "      <th>Q_R_4_0_4</th>\n",
       "      <th>Q_R_4_0_5</th>\n",
       "      <th>Q_R_4_0_6</th>\n",
       "      <th>...</th>\n",
       "      <th>AREA</th>\n",
       "      <th>GEOM_R1</th>\n",
       "      <th>GEOM_R2</th>\n",
       "      <th>GEOM_R3</th>\n",
       "      <th>GEOM_R4</th>\n",
       "      <th>CONTRUCTIONYEAR</th>\n",
       "      <th>MAXBUILDINGFLOOR</th>\n",
       "      <th>CADASTRALQUALITYID</th>\n",
       "      <th>CLASE1</th>\n",
       "      <th>CLASE2</th>\n",
       "    </tr>\n",
       "  </thead>\n",
       "  <tbody>\n",
       "    <tr>\n",
       "      <th>0</th>\n",
       "      <td>44198C2A811A4DF4</td>\n",
       "      <td>2200905624</td>\n",
       "      <td>165480229</td>\n",
       "      <td>0.000001</td>\n",
       "      <td>445.999637</td>\n",
       "      <td>634.001172</td>\n",
       "      <td>780.000568</td>\n",
       "      <td>902.004053</td>\n",
       "      <td>1025.997009</td>\n",
       "      <td>1157.997681</td>\n",
       "      <td>...</td>\n",
       "      <td>283.593030</td>\n",
       "      <td>0.046741</td>\n",
       "      <td>0.014588</td>\n",
       "      <td>0.011298</td>\n",
       "      <td>0.774503</td>\n",
       "      <td>1994</td>\n",
       "      <td>5.0</td>\n",
       "      <td>4</td>\n",
       "      <td>PUBLIC</td>\n",
       "      <td>PUBLIC</td>\n",
       "    </tr>\n",
       "    <tr>\n",
       "      <th>1</th>\n",
       "      <td>216F638609E0E39E</td>\n",
       "      <td>2207436564</td>\n",
       "      <td>165625751</td>\n",
       "      <td>0.000000</td>\n",
       "      <td>385.000995</td>\n",
       "      <td>580.005762</td>\n",
       "      <td>737.004449</td>\n",
       "      <td>873.996460</td>\n",
       "      <td>1005.998779</td>\n",
       "      <td>1141.001758</td>\n",
       "      <td>...</td>\n",
       "      <td>357.712450</td>\n",
       "      <td>0.378483</td>\n",
       "      <td>0.041085</td>\n",
       "      <td>0.025753</td>\n",
       "      <td>0.626835</td>\n",
       "      <td>1968</td>\n",
       "      <td>8.0</td>\n",
       "      <td>3</td>\n",
       "      <td>RESIDENTIAL</td>\n",
       "      <td>RESIDENTIAL</td>\n",
       "    </tr>\n",
       "    <tr>\n",
       "      <th>2</th>\n",
       "      <td>FFFCEFB11E257364</td>\n",
       "      <td>2200313961</td>\n",
       "      <td>165752898</td>\n",
       "      <td>0.000000</td>\n",
       "      <td>343.996613</td>\n",
       "      <td>567.010620</td>\n",
       "      <td>745.995483</td>\n",
       "      <td>900.997925</td>\n",
       "      <td>1051.995361</td>\n",
       "      <td>1200.006226</td>\n",
       "      <td>...</td>\n",
       "      <td>160.979017</td>\n",
       "      <td>0.306545</td>\n",
       "      <td>0.034637</td>\n",
       "      <td>0.054977</td>\n",
       "      <td>1.587207</td>\n",
       "      <td>1968</td>\n",
       "      <td>5.0</td>\n",
       "      <td>7</td>\n",
       "      <td>RESIDENTIAL</td>\n",
       "      <td>RESIDENTIAL</td>\n",
       "    </tr>\n",
       "    <tr>\n",
       "      <th>3</th>\n",
       "      <td>596C5C8CE10BCF</td>\n",
       "      <td>2199220382</td>\n",
       "      <td>166288192</td>\n",
       "      <td>0.000000</td>\n",
       "      <td>173.999956</td>\n",
       "      <td>218.000000</td>\n",
       "      <td>261.999713</td>\n",
       "      <td>315.999951</td>\n",
       "      <td>408.000565</td>\n",
       "      <td>560.000500</td>\n",
       "      <td>...</td>\n",
       "      <td>9088.678448</td>\n",
       "      <td>0.338955</td>\n",
       "      <td>0.006846</td>\n",
       "      <td>0.005448</td>\n",
       "      <td>0.795725</td>\n",
       "      <td>1993</td>\n",
       "      <td>6.0</td>\n",
       "      <td>6</td>\n",
       "      <td>OFFICE</td>\n",
       "      <td>OFFICE</td>\n",
       "    </tr>\n",
       "    <tr>\n",
       "      <th>4</th>\n",
       "      <td>F931B9FA2A8641D1</td>\n",
       "      <td>2209143550</td>\n",
       "      <td>165253334</td>\n",
       "      <td>0.000007</td>\n",
       "      <td>588.002014</td>\n",
       "      <td>738.999451</td>\n",
       "      <td>848.001282</td>\n",
       "      <td>954.000244</td>\n",
       "      <td>1074.000183</td>\n",
       "      <td>1228.998291</td>\n",
       "      <td>...</td>\n",
       "      <td>994.424368</td>\n",
       "      <td>0.581476</td>\n",
       "      <td>0.036470</td>\n",
       "      <td>0.016033</td>\n",
       "      <td>0.439638</td>\n",
       "      <td>1964</td>\n",
       "      <td>4.0</td>\n",
       "      <td>7</td>\n",
       "      <td>OTHER</td>\n",
       "      <td>INDUSTRIAL</td>\n",
       "    </tr>\n",
       "  </tbody>\n",
       "</table>\n",
       "<p>5 rows × 57 columns</p>\n",
       "</div>"
      ],
      "text/plain": [
       "                 ID           X          Y  Q_R_4_0_0   Q_R_4_0_1   Q_R_4_0_2  \\\n",
       "0  44198C2A811A4DF4  2200905624  165480229   0.000001  445.999637  634.001172   \n",
       "1  216F638609E0E39E  2207436564  165625751   0.000000  385.000995  580.005762   \n",
       "2  FFFCEFB11E257364  2200313961  165752898   0.000000  343.996613  567.010620   \n",
       "3    596C5C8CE10BCF  2199220382  166288192   0.000000  173.999956  218.000000   \n",
       "4  F931B9FA2A8641D1  2209143550  165253334   0.000007  588.002014  738.999451   \n",
       "\n",
       "    Q_R_4_0_3   Q_R_4_0_4    Q_R_4_0_5    Q_R_4_0_6  ...         AREA  \\\n",
       "0  780.000568  902.004053  1025.997009  1157.997681  ...   283.593030   \n",
       "1  737.004449  873.996460  1005.998779  1141.001758  ...   357.712450   \n",
       "2  745.995483  900.997925  1051.995361  1200.006226  ...   160.979017   \n",
       "3  261.999713  315.999951   408.000565   560.000500  ...  9088.678448   \n",
       "4  848.001282  954.000244  1074.000183  1228.998291  ...   994.424368   \n",
       "\n",
       "    GEOM_R1   GEOM_R2   GEOM_R3   GEOM_R4  CONTRUCTIONYEAR  MAXBUILDINGFLOOR  \\\n",
       "0  0.046741  0.014588  0.011298  0.774503             1994               5.0   \n",
       "1  0.378483  0.041085  0.025753  0.626835             1968               8.0   \n",
       "2  0.306545  0.034637  0.054977  1.587207             1968               5.0   \n",
       "3  0.338955  0.006846  0.005448  0.795725             1993               6.0   \n",
       "4  0.581476  0.036470  0.016033  0.439638             1964               4.0   \n",
       "\n",
       "   CADASTRALQUALITYID       CLASE1       CLASE2  \n",
       "0                   4       PUBLIC       PUBLIC  \n",
       "1                   3  RESIDENTIAL  RESIDENTIAL  \n",
       "2                   7  RESIDENTIAL  RESIDENTIAL  \n",
       "3                   6       OFFICE       OFFICE  \n",
       "4                   7        OTHER   INDUSTRIAL  \n",
       "\n",
       "[5 rows x 57 columns]"
      ]
     },
     "execution_count": 15,
     "metadata": {},
     "output_type": "execute_result"
    }
   ],
   "source": [
    "df_estimar.head()"
   ]
  },
  {
   "cell_type": "code",
   "execution_count": 14,
   "metadata": {},
   "outputs": [],
   "source": [
    "classifier = SoilClassifier()"
   ]
  },
  {
   "cell_type": "code",
   "execution_count": 17,
   "metadata": {},
   "outputs": [
    {
     "name": "stdout",
     "output_type": "stream",
     "text": [
      "execute _fit_resample\n"
     ]
    },
    {
     "name": "stderr",
     "output_type": "stream",
     "text": [
      "/home/maldo/projects/virtualenvs/datathon/lib/python3.7/site-packages/sklearn/metrics/_classification.py:1272: UndefinedMetricWarning: Precision is ill-defined and being set to 0.0 in labels with no predicted samples. Use `zero_division` parameter to control this behavior.\n",
      "  _warn_prf(average, modifier, msg_start, len(result))\n"
     ]
    }
   ],
   "source": [
    "classifier.fit(df, df[TARGET_FEATURE])"
   ]
  },
  {
   "cell_type": "code",
   "execution_count": 20,
   "metadata": {},
   "outputs": [],
   "source": [
    "classifier.dump('../src/experiments/test.pkl')"
   ]
  },
  {
   "cell_type": "code",
   "execution_count": 19,
   "metadata": {},
   "outputs": [
    {
     "name": "stderr",
     "output_type": "stream",
     "text": [
      "/home/maldo/projects/virtualenvs/datathon/lib/python3.7/site-packages/sklearn/metrics/_classification.py:1272: UndefinedMetricWarning: Precision is ill-defined and being set to 0.0 in labels with no predicted samples. Use `zero_division` parameter to control this behavior.\n",
      "  _warn_prf(average, modifier, msg_start, len(result))\n"
     ]
    }
   ],
   "source": [
    "classifier.evaluate(df_test, df_test[TARGET_FEATURE])"
   ]
  },
  {
   "cell_type": "code",
   "execution_count": 21,
   "metadata": {},
   "outputs": [
    {
     "data": {
      "text/plain": [
       "{'train': {'accuracy': 0.9042204978127645,\n",
       "  'balanced_accuracy': 0.14285714285714285,\n",
       "  'precision_macro': 0.12917435683039494,\n",
       "  'precision_weighted': 0.8176147086647637,\n",
       "  'recall_macro': 0.14285714285714285,\n",
       "  'recall_weighted': 0.9042204978127645,\n",
       "  'f1_macro': 0.13567163779485394,\n",
       "  'f1_weighted': 0.8587395310615514},\n",
       " 'test': {'accuracy': 0.2900600658787057,\n",
       "  'balanced_accuracy': 0.14285714285714285,\n",
       "  'precision_macro': 0.041437152268386526,\n",
       "  'precision_weighted': 0.08413484181755909,\n",
       "  'recall_macro': 0.14285714285714285,\n",
       "  'recall_weighted': 0.2900600658787057,\n",
       "  'f1_macro': 0.0642406557095653,\n",
       "  'f1_weighted': 0.13043554179045433}}"
      ]
     },
     "execution_count": 21,
     "metadata": {},
     "output_type": "execute_result"
    }
   ],
   "source": [
    "classifier.metrics"
   ]
  },
  {
   "cell_type": "code",
   "execution_count": 10,
   "metadata": {},
   "outputs": [],
   "source": [
    "classifier2 = SoilClassifier()"
   ]
  },
  {
   "cell_type": "code",
   "execution_count": 11,
   "metadata": {},
   "outputs": [],
   "source": [
    "classifier2.load('../src/experiments/test.pkl')"
   ]
  },
  {
   "cell_type": "code",
   "execution_count": 14,
   "metadata": {},
   "outputs": [
    {
     "data": {
      "text/plain": [
       "array([ True,  True,  True, ...,  True,  True,  True])"
      ]
     },
     "execution_count": 14,
     "metadata": {},
     "output_type": "execute_result"
    }
   ],
   "source": [
    "    classifier2.predict(df_test) == classifier.predict(df_test)"
   ]
  },
  {
   "cell_type": "code",
   "execution_count": 9,
   "metadata": {},
   "outputs": [
    {
     "ename": "NameError",
     "evalue": "name 'transformer' is not defined",
     "output_type": "error",
     "traceback": [
      "\u001b[0;31m---------------------------------------------------------------------------\u001b[0m",
      "\u001b[0;31mNameError\u001b[0m                                 Traceback (most recent call last)",
      "\u001b[0;32m<ipython-input-9-ffb7a8707300>\u001b[0m in \u001b[0;36m<module>\u001b[0;34m\u001b[0m\n\u001b[0;32m----> 1\u001b[0;31m \u001b[0mtransformed\u001b[0m \u001b[0;34m=\u001b[0m \u001b[0mtransformer\u001b[0m\u001b[0;34m.\u001b[0m\u001b[0mtransform\u001b[0m\u001b[0;34m(\u001b[0m\u001b[0mdf\u001b[0m\u001b[0;34m)\u001b[0m\u001b[0;34m\u001b[0m\u001b[0;34m\u001b[0m\u001b[0m\n\u001b[0m",
      "\u001b[0;31mNameError\u001b[0m: name 'transformer' is not defined"
     ]
    }
   ],
   "source": [
    "transformed = transformer.transform(df)"
   ]
  },
  {
   "cell_type": "code",
   "execution_count": null,
   "metadata": {},
   "outputs": [],
   "source": []
  },
  {
   "cell_type": "code",
   "execution_count": 19,
   "metadata": {},
   "outputs": [],
   "source": [
    "transformed = pd.DataFrame(transformed, columns= transformer.get_feature_names())"
   ]
  },
  {
   "cell_type": "code",
   "execution_count": 23,
   "metadata": {},
   "outputs": [
    {
     "data": {
      "text/html": [
       "<div>\n",
       "<style scoped>\n",
       "    .dataframe tbody tr th:only-of-type {\n",
       "        vertical-align: middle;\n",
       "    }\n",
       "\n",
       "    .dataframe tbody tr th {\n",
       "        vertical-align: top;\n",
       "    }\n",
       "\n",
       "    .dataframe thead th {\n",
       "        text-align: right;\n",
       "    }\n",
       "</style>\n",
       "<table border=\"1\" class=\"dataframe\">\n",
       "  <thead>\n",
       "    <tr style=\"text-align: right;\">\n",
       "      <th></th>\n",
       "      <th>ID</th>\n",
       "      <th>X</th>\n",
       "      <th>Y</th>\n",
       "      <th>Q_R_4_0_0</th>\n",
       "      <th>Q_R_4_0_1</th>\n",
       "      <th>Q_R_4_0_2</th>\n",
       "      <th>Q_R_4_0_3</th>\n",
       "      <th>Q_R_4_0_4</th>\n",
       "      <th>Q_R_4_0_5</th>\n",
       "      <th>Q_R_4_0_6</th>\n",
       "      <th>...</th>\n",
       "      <th>Q_NIR_8_1_0</th>\n",
       "      <th>AREA</th>\n",
       "      <th>GEOM_R1</th>\n",
       "      <th>GEOM_R2</th>\n",
       "      <th>GEOM_R3</th>\n",
       "      <th>GEOM_R4</th>\n",
       "      <th>CONTRUCTIONYEAR</th>\n",
       "      <th>MAXBUILDINGFLOOR</th>\n",
       "      <th>CADASTRALQUALITYID</th>\n",
       "      <th>CLASE</th>\n",
       "    </tr>\n",
       "  </thead>\n",
       "  <tbody>\n",
       "    <tr>\n",
       "      <th>0</th>\n",
       "      <td>817D0B449AA4CE4A</td>\n",
       "      <td>2206943551</td>\n",
       "      <td>165769382</td>\n",
       "      <td>0.0</td>\n",
       "      <td>343.996613</td>\n",
       "      <td>567.01062</td>\n",
       "      <td>745.995483</td>\n",
       "      <td>900.997925</td>\n",
       "      <td>1051.995361</td>\n",
       "      <td>1200.006226</td>\n",
       "      <td>...</td>\n",
       "      <td>8827.104856</td>\n",
       "      <td>335.653455</td>\n",
       "      <td>0.524115</td>\n",
       "      <td>0.035211</td>\n",
       "      <td>0.044346</td>\n",
       "      <td>1.259424</td>\n",
       "      <td>2000</td>\n",
       "      <td>4.0</td>\n",
       "      <td>4</td>\n",
       "      <td>RESIDENTIAL</td>\n",
       "    </tr>\n",
       "    <tr>\n",
       "      <th>1</th>\n",
       "      <td>A1D3A28A92B9E2F7</td>\n",
       "      <td>2228324900</td>\n",
       "      <td>165646790</td>\n",
       "      <td>0.0</td>\n",
       "      <td>388.001147</td>\n",
       "      <td>584.00437</td>\n",
       "      <td>743.997858</td>\n",
       "      <td>891.000598</td>\n",
       "      <td>1042.505188</td>\n",
       "      <td>1201.999268</td>\n",
       "      <td>...</td>\n",
       "      <td>10952.938615</td>\n",
       "      <td>67.193238</td>\n",
       "      <td>0.394104</td>\n",
       "      <td>0.090090</td>\n",
       "      <td>0.065104</td>\n",
       "      <td>0.722656</td>\n",
       "      <td>1996</td>\n",
       "      <td>3.0</td>\n",
       "      <td>7</td>\n",
       "      <td>RESIDENTIAL</td>\n",
       "    </tr>\n",
       "  </tbody>\n",
       "</table>\n",
       "<p>2 rows × 56 columns</p>\n",
       "</div>"
      ],
      "text/plain": [
       "                 ID           X          Y  Q_R_4_0_0   Q_R_4_0_1  Q_R_4_0_2  \\\n",
       "0  817D0B449AA4CE4A  2206943551  165769382        0.0  343.996613  567.01062   \n",
       "1  A1D3A28A92B9E2F7  2228324900  165646790        0.0  388.001147  584.00437   \n",
       "\n",
       "    Q_R_4_0_3   Q_R_4_0_4    Q_R_4_0_5    Q_R_4_0_6  ...   Q_NIR_8_1_0  \\\n",
       "0  745.995483  900.997925  1051.995361  1200.006226  ...   8827.104856   \n",
       "1  743.997858  891.000598  1042.505188  1201.999268  ...  10952.938615   \n",
       "\n",
       "         AREA   GEOM_R1   GEOM_R2   GEOM_R3   GEOM_R4  CONTRUCTIONYEAR  \\\n",
       "0  335.653455  0.524115  0.035211  0.044346  1.259424             2000   \n",
       "1   67.193238  0.394104  0.090090  0.065104  0.722656             1996   \n",
       "\n",
       "   MAXBUILDINGFLOOR  CADASTRALQUALITYID        CLASE  \n",
       "0               4.0                   4  RESIDENTIAL  \n",
       "1               3.0                   7  RESIDENTIAL  \n",
       "\n",
       "[2 rows x 56 columns]"
      ]
     },
     "execution_count": 23,
     "metadata": {},
     "output_type": "execute_result"
    }
   ],
   "source": [
    "df.loc[0:1,]"
   ]
  },
  {
   "cell_type": "code",
   "execution_count": 25,
   "metadata": {},
   "outputs": [
    {
     "data": {
      "text/html": [
       "<div>\n",
       "<style scoped>\n",
       "    .dataframe tbody tr th:only-of-type {\n",
       "        vertical-align: middle;\n",
       "    }\n",
       "\n",
       "    .dataframe tbody tr th {\n",
       "        vertical-align: top;\n",
       "    }\n",
       "\n",
       "    .dataframe thead th {\n",
       "        text-align: right;\n",
       "    }\n",
       "</style>\n",
       "<table border=\"1\" class=\"dataframe\">\n",
       "  <thead>\n",
       "    <tr style=\"text-align: right;\">\n",
       "      <th></th>\n",
       "      <th>not_transformed__X</th>\n",
       "      <th>not_transformed__Y</th>\n",
       "      <th>not_transformed__Q_R_4_0_0</th>\n",
       "      <th>not_transformed__Q_R_4_0_1</th>\n",
       "      <th>not_transformed__Q_R_4_0_2</th>\n",
       "      <th>not_transformed__Q_R_4_0_3</th>\n",
       "      <th>not_transformed__Q_R_4_0_4</th>\n",
       "      <th>not_transformed__Q_R_4_0_5</th>\n",
       "      <th>not_transformed__Q_R_4_0_6</th>\n",
       "      <th>not_transformed__Q_R_4_0_7</th>\n",
       "      <th>...</th>\n",
       "      <th>log_area__log_AREA</th>\n",
       "      <th>building_year_decades__CONTRUCTIONYEAR_1950</th>\n",
       "      <th>building_year_decades__CONTRUCTIONYEAR_1960</th>\n",
       "      <th>building_year_decades__CONTRUCTIONYEAR_1970</th>\n",
       "      <th>building_year_decades__CONTRUCTIONYEAR_1980</th>\n",
       "      <th>building_year_decades__CONTRUCTIONYEAR_1990</th>\n",
       "      <th>building_year_decades__CONTRUCTIONYEAR_2000</th>\n",
       "      <th>building_year_decades__CONTRUCTIONYEAR_&lt;1950</th>\n",
       "      <th>building_year_decades__CONTRUCTIONYEAR_&gt;=2010</th>\n",
       "      <th>building_antiquity_log__log_CONTRUCTIONYEAR_antiquity</th>\n",
       "    </tr>\n",
       "  </thead>\n",
       "  <tbody>\n",
       "    <tr>\n",
       "      <th>0</th>\n",
       "      <td>2.206944e+09</td>\n",
       "      <td>165769382.0</td>\n",
       "      <td>0.0</td>\n",
       "      <td>343.996613</td>\n",
       "      <td>567.01062</td>\n",
       "      <td>745.995483</td>\n",
       "      <td>900.997925</td>\n",
       "      <td>1051.995361</td>\n",
       "      <td>1200.006226</td>\n",
       "      <td>1370.990234</td>\n",
       "      <td>...</td>\n",
       "      <td>5.819054</td>\n",
       "      <td>0.0</td>\n",
       "      <td>0.0</td>\n",
       "      <td>0.0</td>\n",
       "      <td>0.0</td>\n",
       "      <td>0.0</td>\n",
       "      <td>1.0</td>\n",
       "      <td>0.0</td>\n",
       "      <td>0.0</td>\n",
       "      <td>3.044522</td>\n",
       "    </tr>\n",
       "    <tr>\n",
       "      <th>1</th>\n",
       "      <td>2.228325e+09</td>\n",
       "      <td>165646790.0</td>\n",
       "      <td>0.0</td>\n",
       "      <td>388.001147</td>\n",
       "      <td>584.00437</td>\n",
       "      <td>743.997858</td>\n",
       "      <td>891.000598</td>\n",
       "      <td>1042.505188</td>\n",
       "      <td>1201.999268</td>\n",
       "      <td>1378.998694</td>\n",
       "      <td>...</td>\n",
       "      <td>4.222345</td>\n",
       "      <td>0.0</td>\n",
       "      <td>0.0</td>\n",
       "      <td>0.0</td>\n",
       "      <td>0.0</td>\n",
       "      <td>1.0</td>\n",
       "      <td>0.0</td>\n",
       "      <td>0.0</td>\n",
       "      <td>0.0</td>\n",
       "      <td>3.218876</td>\n",
       "    </tr>\n",
       "  </tbody>\n",
       "</table>\n",
       "<p>2 rows × 76 columns</p>\n",
       "</div>"
      ],
      "text/plain": [
       "   not_transformed__X  not_transformed__Y  not_transformed__Q_R_4_0_0  \\\n",
       "0        2.206944e+09         165769382.0                         0.0   \n",
       "1        2.228325e+09         165646790.0                         0.0   \n",
       "\n",
       "   not_transformed__Q_R_4_0_1  not_transformed__Q_R_4_0_2  \\\n",
       "0                  343.996613                   567.01062   \n",
       "1                  388.001147                   584.00437   \n",
       "\n",
       "   not_transformed__Q_R_4_0_3  not_transformed__Q_R_4_0_4  \\\n",
       "0                  745.995483                  900.997925   \n",
       "1                  743.997858                  891.000598   \n",
       "\n",
       "   not_transformed__Q_R_4_0_5  not_transformed__Q_R_4_0_6  \\\n",
       "0                 1051.995361                 1200.006226   \n",
       "1                 1042.505188                 1201.999268   \n",
       "\n",
       "   not_transformed__Q_R_4_0_7  ...  log_area__log_AREA  \\\n",
       "0                 1370.990234  ...            5.819054   \n",
       "1                 1378.998694  ...            4.222345   \n",
       "\n",
       "   building_year_decades__CONTRUCTIONYEAR_1950  \\\n",
       "0                                          0.0   \n",
       "1                                          0.0   \n",
       "\n",
       "   building_year_decades__CONTRUCTIONYEAR_1960  \\\n",
       "0                                          0.0   \n",
       "1                                          0.0   \n",
       "\n",
       "   building_year_decades__CONTRUCTIONYEAR_1970  \\\n",
       "0                                          0.0   \n",
       "1                                          0.0   \n",
       "\n",
       "   building_year_decades__CONTRUCTIONYEAR_1980  \\\n",
       "0                                          0.0   \n",
       "1                                          0.0   \n",
       "\n",
       "   building_year_decades__CONTRUCTIONYEAR_1990  \\\n",
       "0                                          0.0   \n",
       "1                                          1.0   \n",
       "\n",
       "   building_year_decades__CONTRUCTIONYEAR_2000  \\\n",
       "0                                          1.0   \n",
       "1                                          0.0   \n",
       "\n",
       "   building_year_decades__CONTRUCTIONYEAR_<1950  \\\n",
       "0                                           0.0   \n",
       "1                                           0.0   \n",
       "\n",
       "   building_year_decades__CONTRUCTIONYEAR_>=2010  \\\n",
       "0                                            0.0   \n",
       "1                                            0.0   \n",
       "\n",
       "   building_antiquity_log__log_CONTRUCTIONYEAR_antiquity  \n",
       "0                                           3.044522      \n",
       "1                                           3.218876      \n",
       "\n",
       "[2 rows x 76 columns]"
      ]
     },
     "execution_count": 25,
     "metadata": {},
     "output_type": "execute_result"
    }
   ],
   "source": [
    "transformed.loc[0:1,:]"
   ]
  },
  {
   "cell_type": "code",
   "execution_count": 30,
   "metadata": {},
   "outputs": [
    {
     "data": {
      "text/plain": [
       "4.222345410373657"
      ]
     },
     "execution_count": 30,
     "metadata": {},
     "output_type": "execute_result"
    }
   ],
   "source": [
    "math.log(67.193238+1)"
   ]
  },
  {
   "cell_type": "code",
   "execution_count": 12,
   "metadata": {},
   "outputs": [
    {
     "data": {
      "text/plain": [
       "76"
      ]
     },
     "execution_count": 12,
     "metadata": {},
     "output_type": "execute_result"
    }
   ],
   "source": [
    "len(transformer.get_feature_names())"
   ]
  },
  {
   "cell_type": "code",
   "execution_count": 21,
   "metadata": {},
   "outputs": [
    {
     "data": {
      "text/plain": [
       "(98069, 56)"
      ]
     },
     "execution_count": 21,
     "metadata": {},
     "output_type": "execute_result"
    }
   ],
   "source": [
    "df.shape"
   ]
  },
  {
   "cell_type": "code",
   "execution_count": 10,
   "metadata": {},
   "outputs": [
    {
     "data": {
      "text/plain": [
       "Index(['ID', 'X', 'Y', 'Q_R_4_0_0', 'Q_R_4_0_1', 'Q_R_4_0_2', 'Q_R_4_0_3',\n",
       "       'Q_R_4_0_4', 'Q_R_4_0_5', 'Q_R_4_0_6', 'Q_R_4_0_7', 'Q_R_4_0_8',\n",
       "       'Q_R_4_0_9', 'Q_R_4_1_0', 'Q_G_3_0_0', 'Q_G_3_0_1', 'Q_G_3_0_2',\n",
       "       'Q_G_3_0_3', 'Q_G_3_0_4', 'Q_G_3_0_5', 'Q_G_3_0_6', 'Q_G_3_0_7',\n",
       "       'Q_G_3_0_8', 'Q_G_3_0_9', 'Q_G_3_1_0', 'Q_B_2_0_0', 'Q_B_2_0_1',\n",
       "       'Q_B_2_0_2', 'Q_B_2_0_3', 'Q_B_2_0_4', 'Q_B_2_0_5', 'Q_B_2_0_6',\n",
       "       'Q_B_2_0_7', 'Q_B_2_0_8', 'Q_B_2_0_9', 'Q_B_2_1_0', 'Q_NIR_8_0_0',\n",
       "       'Q_NIR_8_0_1', 'Q_NIR_8_0_2', 'Q_NIR_8_0_3', 'Q_NIR_8_0_4',\n",
       "       'Q_NIR_8_0_5', 'Q_NIR_8_0_6', 'Q_NIR_8_0_7', 'Q_NIR_8_0_8',\n",
       "       'Q_NIR_8_0_9', 'Q_NIR_8_1_0', 'AREA', 'GEOM_R1', 'GEOM_R2', 'GEOM_R3',\n",
       "       'GEOM_R4', 'CONTRUCTIONYEAR', 'MAXBUILDINGFLOOR', 'CADASTRALQUALITYID',\n",
       "       'CLASE'],\n",
       "      dtype='object')"
      ]
     },
     "execution_count": 10,
     "metadata": {},
     "output_type": "execute_result"
    }
   ],
   "source": [
    "df.columns"
   ]
  },
  {
   "cell_type": "code",
   "execution_count": 13,
   "metadata": {},
   "outputs": [
    {
     "name": "stdout",
     "output_type": "stream",
     "text": [
      "['1950' '1960' '1970' '1980' '1990' '2000' '2010' '<1950']\n"
     ]
    },
    {
     "ename": "TypeError",
     "evalue": "'(55503, slice(None, None, None))' is an invalid key",
     "output_type": "error",
     "traceback": [
      "\u001b[0;31m---------------------------------------------------------------------------\u001b[0m",
      "\u001b[0;31mTypeError\u001b[0m                                 Traceback (most recent call last)",
      "\u001b[0;32m<ipython-input-13-6d03855bdec7>\u001b[0m in \u001b[0;36m<module>\u001b[0;34m\u001b[0m\n\u001b[0;32m----> 1\u001b[0;31m \u001b[0mpd\u001b[0m\u001b[0;34m.\u001b[0m\u001b[0mDataFrame\u001b[0m\u001b[0;34m(\u001b[0m\u001b[0mtransformed\u001b[0m\u001b[0;34m,\u001b[0m \u001b[0mcolumns\u001b[0m \u001b[0;34m=\u001b[0m \u001b[0mtransformer\u001b[0m\u001b[0;34m.\u001b[0m\u001b[0mget_feature_names\u001b[0m\u001b[0;34m(\u001b[0m\u001b[0;34m)\u001b[0m\u001b[0;34m)\u001b[0m\u001b[0;34m[\u001b[0m\u001b[0;36m55503\u001b[0m\u001b[0;34m,\u001b[0m\u001b[0;34m:\u001b[0m\u001b[0;34m]\u001b[0m\u001b[0;34m\u001b[0m\u001b[0;34m\u001b[0m\u001b[0m\n\u001b[0m",
      "\u001b[0;32m~/.local/lib/python3.7/site-packages/pandas/core/frame.py\u001b[0m in \u001b[0;36m__getitem__\u001b[0;34m(self, key)\u001b[0m\n\u001b[1;32m   2973\u001b[0m             \u001b[0;32mif\u001b[0m \u001b[0mself\u001b[0m\u001b[0;34m.\u001b[0m\u001b[0mcolumns\u001b[0m\u001b[0;34m.\u001b[0m\u001b[0mnlevels\u001b[0m \u001b[0;34m>\u001b[0m \u001b[0;36m1\u001b[0m\u001b[0;34m:\u001b[0m\u001b[0;34m\u001b[0m\u001b[0;34m\u001b[0m\u001b[0m\n\u001b[1;32m   2974\u001b[0m                 \u001b[0;32mreturn\u001b[0m \u001b[0mself\u001b[0m\u001b[0;34m.\u001b[0m\u001b[0m_getitem_multilevel\u001b[0m\u001b[0;34m(\u001b[0m\u001b[0mkey\u001b[0m\u001b[0;34m)\u001b[0m\u001b[0;34m\u001b[0m\u001b[0;34m\u001b[0m\u001b[0m\n\u001b[0;32m-> 2975\u001b[0;31m             \u001b[0mindexer\u001b[0m \u001b[0;34m=\u001b[0m \u001b[0mself\u001b[0m\u001b[0;34m.\u001b[0m\u001b[0mcolumns\u001b[0m\u001b[0;34m.\u001b[0m\u001b[0mget_loc\u001b[0m\u001b[0;34m(\u001b[0m\u001b[0mkey\u001b[0m\u001b[0;34m)\u001b[0m\u001b[0;34m\u001b[0m\u001b[0;34m\u001b[0m\u001b[0m\n\u001b[0m\u001b[1;32m   2976\u001b[0m             \u001b[0;32mif\u001b[0m \u001b[0mis_integer\u001b[0m\u001b[0;34m(\u001b[0m\u001b[0mindexer\u001b[0m\u001b[0;34m)\u001b[0m\u001b[0;34m:\u001b[0m\u001b[0;34m\u001b[0m\u001b[0;34m\u001b[0m\u001b[0m\n\u001b[1;32m   2977\u001b[0m                 \u001b[0mindexer\u001b[0m \u001b[0;34m=\u001b[0m \u001b[0;34m[\u001b[0m\u001b[0mindexer\u001b[0m\u001b[0;34m]\u001b[0m\u001b[0;34m\u001b[0m\u001b[0;34m\u001b[0m\u001b[0m\n",
      "\u001b[0;32m~/.local/lib/python3.7/site-packages/pandas/core/indexes/base.py\u001b[0m in \u001b[0;36mget_loc\u001b[0;34m(self, key, method, tolerance)\u001b[0m\n\u001b[1;32m   2888\u001b[0m                 )\n\u001b[1;32m   2889\u001b[0m             \u001b[0;32mtry\u001b[0m\u001b[0;34m:\u001b[0m\u001b[0;34m\u001b[0m\u001b[0;34m\u001b[0m\u001b[0m\n\u001b[0;32m-> 2890\u001b[0;31m                 \u001b[0;32mreturn\u001b[0m \u001b[0mself\u001b[0m\u001b[0;34m.\u001b[0m\u001b[0m_engine\u001b[0m\u001b[0;34m.\u001b[0m\u001b[0mget_loc\u001b[0m\u001b[0;34m(\u001b[0m\u001b[0mkey\u001b[0m\u001b[0;34m)\u001b[0m\u001b[0;34m\u001b[0m\u001b[0;34m\u001b[0m\u001b[0m\n\u001b[0m\u001b[1;32m   2891\u001b[0m             \u001b[0;32mexcept\u001b[0m \u001b[0mKeyError\u001b[0m\u001b[0;34m:\u001b[0m\u001b[0;34m\u001b[0m\u001b[0;34m\u001b[0m\u001b[0m\n\u001b[1;32m   2892\u001b[0m                 \u001b[0;32mreturn\u001b[0m \u001b[0mself\u001b[0m\u001b[0;34m.\u001b[0m\u001b[0m_engine\u001b[0m\u001b[0;34m.\u001b[0m\u001b[0mget_loc\u001b[0m\u001b[0;34m(\u001b[0m\u001b[0mself\u001b[0m\u001b[0;34m.\u001b[0m\u001b[0m_maybe_cast_indexer\u001b[0m\u001b[0;34m(\u001b[0m\u001b[0mkey\u001b[0m\u001b[0;34m)\u001b[0m\u001b[0;34m)\u001b[0m\u001b[0;34m\u001b[0m\u001b[0;34m\u001b[0m\u001b[0m\n",
      "\u001b[0;32mpandas/_libs/index.pyx\u001b[0m in \u001b[0;36mpandas._libs.index.IndexEngine.get_loc\u001b[0;34m()\u001b[0m\n",
      "\u001b[0;32mpandas/_libs/index.pyx\u001b[0m in \u001b[0;36mpandas._libs.index.IndexEngine.get_loc\u001b[0;34m()\u001b[0m\n",
      "\u001b[0;31mTypeError\u001b[0m: '(55503, slice(None, None, None))' is an invalid key"
     ]
    }
   ],
   "source": [
    "pd.DataFrame(transformed, columns = transformer.get_feature_names())"
   ]
  },
  {
   "cell_type": "code",
   "execution_count": null,
   "metadata": {},
   "outputs": [],
   "source": []
  },
  {
   "cell_type": "code",
   "execution_count": 11,
   "metadata": {},
   "outputs": [
    {
     "data": {
      "text/plain": [
       "(98069, 56)"
      ]
     },
     "execution_count": 11,
     "metadata": {},
     "output_type": "execute_result"
    }
   ],
   "source": [
    "df.shape"
   ]
  },
  {
   "cell_type": "code",
   "execution_count": 14,
   "metadata": {},
   "outputs": [
    {
     "data": {
      "text/plain": [
       "2017"
      ]
     },
     "execution_count": 14,
     "metadata": {},
     "output_type": "execute_result"
    }
   ],
   "source": [
    "    df.CONTRUCTIONYEAR.max()"
   ]
  },
  {
   "cell_type": "code",
   "execution_count": 12,
   "metadata": {},
   "outputs": [
    {
     "data": {
      "text/plain": [
       "<matplotlib.axes._subplots.AxesSubplot at 0x7f8df400f3c8>"
      ]
     },
     "execution_count": 12,
     "metadata": {},
     "output_type": "execute_result"
    },
    {
     "data": {
      "image/png": "[encoded data removed]",
      "text/plain": [
       "<Figure size 432x288 with 1 Axes>"
      ]
     },
     "metadata": {
      "needs_background": "light"
     },
     "output_type": "display_data"
    }
   ],
   "source": [
    "sns.distplot(transformed.CONTRUCTIONYEAR_antiquity.apply(lambda x: math.log(x,2)))"
   ]
  },
  {
   "cell_type": "code",
   "execution_count": 25,
   "metadata": {},
   "outputs": [],
   "source": [
    "from sklearn.preprocessing import OrdinalEncoder\n",
    "import numpy as np\n",
    "transformer = OrdinalEncoder(categories=[CADASTRAL_QUALITY_ORDER])"
   ]
  },
  {
   "cell_type": "code",
   "execution_count": 26,
   "metadata": {},
   "outputs": [
    {
     "data": {
      "text/plain": [
       "OrdinalEncoder(categories=[[nan, '9', '8', '7', '6', '5', '4', '3', '2', '1',\n",
       "                            'C', 'B', 'A']],\n",
       "               dtype=<class 'numpy.float64'>)"
      ]
     },
     "execution_count": 26,
     "metadata": {},
     "output_type": "execute_result"
    }
   ],
   "source": [
    "transformer.fit(df[['CADASTRALQUALITYID']].dropna())"
   ]
  },
  {
   "cell_type": "code",
   "execution_count": 27,
   "metadata": {},
   "outputs": [
    {
     "data": {
      "text/plain": [
       "array([[6.],\n",
       "       [3.],\n",
       "       [5.],\n",
       "       ...,\n",
       "       [1.],\n",
       "       [4.],\n",
       "       [4.]])"
      ]
     },
     "execution_count": 27,
     "metadata": {},
     "output_type": "execute_result"
    }
   ],
   "source": [
    "transformer.transform(df[['CADASTRALQUALITYID']].dropna())"
   ]
  },
  {
   "cell_type": "code",
   "execution_count": 44,
   "metadata": {},
   "outputs": [],
   "source": [
    "def get_element_index(element, args):\n",
    "    if element and element in args:\n",
    "        return args.index(element)\n",
    "    else:\n",
    "        return -1"
   ]
  },
  {
   "cell_type": "code",
   "execution_count": 50,
   "metadata": {},
   "outputs": [],
   "source": [
    "transformed_df = pd.DataFrame()\n",
    "key = 'CADASTRALQUALITYID'"
   ]
  },
  {
   "cell_type": "code",
   "execution_count": 52,
   "metadata": {},
   "outputs": [],
   "source": [
    "transformed_df['{}_ordinal'.format(key)] = df[key].apply(get_element_index, args=[CADASTRAL_QUALITY_ORDER])"
   ]
  },
  {
   "cell_type": "code",
   "execution_count": 59,
   "metadata": {},
   "outputs": [
    {
     "data": {
      "text/html": [
       "<div>\n",
       "<style scoped>\n",
       "    .dataframe tbody tr th:only-of-type {\n",
       "        vertical-align: middle;\n",
       "    }\n",
       "\n",
       "    .dataframe tbody tr th {\n",
       "        vertical-align: top;\n",
       "    }\n",
       "\n",
       "    .dataframe thead th {\n",
       "        text-align: right;\n",
       "    }\n",
       "</style>\n",
       "<table border=\"1\" class=\"dataframe\">\n",
       "  <thead>\n",
       "    <tr style=\"text-align: right;\">\n",
       "      <th></th>\n",
       "      <th>CADASTRALQUALITYID_ordinal</th>\n",
       "    </tr>\n",
       "  </thead>\n",
       "  <tbody>\n",
       "    <tr>\n",
       "      <th>4357</th>\n",
       "      <td>-1</td>\n",
       "    </tr>\n",
       "    <tr>\n",
       "      <th>11183</th>\n",
       "      <td>-1</td>\n",
       "    </tr>\n",
       "    <tr>\n",
       "      <th>12917</th>\n",
       "      <td>-1</td>\n",
       "    </tr>\n",
       "    <tr>\n",
       "      <th>13922</th>\n",
       "      <td>-1</td>\n",
       "    </tr>\n",
       "    <tr>\n",
       "      <th>20871</th>\n",
       "      <td>-1</td>\n",
       "    </tr>\n",
       "    <tr>\n",
       "      <th>26123</th>\n",
       "      <td>-1</td>\n",
       "    </tr>\n",
       "    <tr>\n",
       "      <th>43443</th>\n",
       "      <td>-1</td>\n",
       "    </tr>\n",
       "    <tr>\n",
       "      <th>49532</th>\n",
       "      <td>-1</td>\n",
       "    </tr>\n",
       "    <tr>\n",
       "      <th>58449</th>\n",
       "      <td>-1</td>\n",
       "    </tr>\n",
       "    <tr>\n",
       "      <th>59143</th>\n",
       "      <td>-1</td>\n",
       "    </tr>\n",
       "    <tr>\n",
       "      <th>60085</th>\n",
       "      <td>-1</td>\n",
       "    </tr>\n",
       "    <tr>\n",
       "      <th>73345</th>\n",
       "      <td>-1</td>\n",
       "    </tr>\n",
       "    <tr>\n",
       "      <th>94084</th>\n",
       "      <td>-1</td>\n",
       "    </tr>\n",
       "  </tbody>\n",
       "</table>\n",
       "</div>"
      ],
      "text/plain": [
       "       CADASTRALQUALITYID_ordinal\n",
       "4357                           -1\n",
       "11183                          -1\n",
       "12917                          -1\n",
       "13922                          -1\n",
       "20871                          -1\n",
       "26123                          -1\n",
       "43443                          -1\n",
       "49532                          -1\n",
       "58449                          -1\n",
       "59143                          -1\n",
       "60085                          -1\n",
       "73345                          -1\n",
       "94084                          -1"
      ]
     },
     "execution_count": 59,
     "metadata": {},
     "output_type": "execute_result"
    }
   ],
   "source": [
    "transformed_df.loc[df[key].isna()]"
   ]
  },
  {
   "cell_type": "code",
   "execution_count": 11,
   "metadata": {},
   "outputs": [
    {
     "data": {
      "text/plain": [
       "Index(['ID', 'X', 'Y', 'Q_R_4_0_0', 'Q_R_4_0_1', 'Q_R_4_0_2', 'Q_R_4_0_3',\n",
       "       'Q_R_4_0_4', 'Q_R_4_0_5', 'Q_R_4_0_6', 'Q_R_4_0_7', 'Q_R_4_0_8',\n",
       "       'Q_R_4_0_9', 'Q_R_4_1_0', 'Q_G_3_0_0', 'Q_G_3_0_1', 'Q_G_3_0_2',\n",
       "       'Q_G_3_0_3', 'Q_G_3_0_4', 'Q_G_3_0_5', 'Q_G_3_0_6', 'Q_G_3_0_7',\n",
       "       'Q_G_3_0_8', 'Q_G_3_0_9', 'Q_G_3_1_0', 'Q_B_2_0_0', 'Q_B_2_0_1',\n",
       "       'Q_B_2_0_2', 'Q_B_2_0_3', 'Q_B_2_0_4', 'Q_B_2_0_5', 'Q_B_2_0_6',\n",
       "       'Q_B_2_0_7', 'Q_B_2_0_8', 'Q_B_2_0_9', 'Q_B_2_1_0', 'Q_NIR_8_0_0',\n",
       "       'Q_NIR_8_0_1', 'Q_NIR_8_0_2', 'Q_NIR_8_0_3', 'Q_NIR_8_0_4',\n",
       "       'Q_NIR_8_0_5', 'Q_NIR_8_0_6', 'Q_NIR_8_0_7', 'Q_NIR_8_0_8',\n",
       "       'Q_NIR_8_0_9', 'Q_NIR_8_1_0', 'AREA', 'GEOM_R1', 'GEOM_R2', 'GEOM_R3',\n",
       "       'GEOM_R4', 'CONTRUCTIONYEAR', 'MAXBUILDINGFLOOR', 'CADASTRALQUALITYID',\n",
       "       'CLASE'],\n",
       "      dtype='object')"
      ]
     },
     "execution_count": 11,
     "metadata": {},
     "output_type": "execute_result"
    }
   ],
   "source": [
    "df.columns"
   ]
  },
  {
   "cell_type": "code",
   "execution_count": 29,
   "metadata": {},
   "outputs": [],
   "source": [
    "from sklearn.pipeline import Pipeline\n",
    "from src.features.features import BuildingYearDecadesTransformer\n",
    "from sklearn.preprocessing import OneHotEncoder\n",
    "\n",
    "pipeline = Pipeline([\n",
    "    ('decades', BuildingYearDecadesTransformer(['CONTRUCTIONYEAR'], [list(range(1950, 2020, 10))])),\n",
    "    ('onehot', OneHotEncoder(sparse=False))\n",
    "])"
   ]
  },
  {
   "cell_type": "code",
   "execution_count": 30,
   "metadata": {},
   "outputs": [
    {
     "data": {
      "text/plain": [
       "Pipeline(memory=None,\n",
       "         steps=[('decades',\n",
       "                 BuildingYearDecadesTransformer(decades_groups=[[1950, 1960,\n",
       "                                                                 1970, 1980,\n",
       "                                                                 1990, 2000,\n",
       "                                                                 2010]],\n",
       "                                                keys=['CONTRUCTIONYEAR'])),\n",
       "                ('onehot',\n",
       "                 OneHotEncoder(categorical_features=None, categories=None,\n",
       "                               drop=None, dtype=<class 'numpy.float64'>,\n",
       "                               handle_unknown='error', n_values=None,\n",
       "                               sparse=False))],\n",
       "         verbose=False)"
      ]
     },
     "execution_count": 30,
     "metadata": {},
     "output_type": "execute_result"
    }
   ],
   "source": [
    "pipeline.fit(df)"
   ]
  },
  {
   "cell_type": "code",
   "execution_count": 31,
   "metadata": {},
   "outputs": [
    {
     "data": {
      "text/plain": [
       "array([0., 0., 0., 0., 0., 1., 0., 0.])"
      ]
     },
     "execution_count": 31,
     "metadata": {},
     "output_type": "execute_result"
    }
   ],
   "source": [
    "pipeline.transform(df)[0]"
   ]
  },
  {
   "cell_type": "code",
   "execution_count": 32,
   "metadata": {},
   "outputs": [
    {
     "data": {
      "text/plain": [
       "array(['x0_1950', 'x0_1960', 'x0_1970', 'x0_1980', 'x0_1990', 'x0_2000',\n",
       "       'x0_2010', 'x0_<1950'], dtype=object)"
      ]
     },
     "execution_count": 32,
     "metadata": {},
     "output_type": "execute_result"
    }
   ],
   "source": [
    "pipeline.named_steps['onehot'].get_feature_names()"
   ]
  },
  {
   "cell_type": "code",
   "execution_count": 17,
   "metadata": {},
   "outputs": [
    {
     "data": {
      "text/plain": [
       "2000"
      ]
     },
     "execution_count": 17,
     "metadata": {},
     "output_type": "execute_result"
    }
   ],
   "source": [
    "df.iloc[0].CONTRUCTIONYEAR"
   ]
  },
  {
   "cell_type": "code",
   "execution_count": 18,
   "metadata": {},
   "outputs": [],
   "source": [
    "byt = BuildingYearDecadesTransformer(['CONTRUCTIONYEAR'], [list(range(1950, 2020, 10))])"
   ]
  },
  {
   "cell_type": "code",
   "execution_count": 19,
   "metadata": {},
   "outputs": [
    {
     "data": {
      "text/plain": [
       "BuildingYearDecadesTransformer(decades_groups=[[1950, 1960, 1970, 1980, 1990,\n",
       "                                                2000, 2010]],\n",
       "                               keys=['CONTRUCTIONYEAR'])"
      ]
     },
     "execution_count": 19,
     "metadata": {},
     "output_type": "execute_result"
    }
   ],
   "source": [
    "byt.fit(df)"
   ]
  },
  {
   "cell_type": "code",
   "execution_count": 20,
   "metadata": {},
   "outputs": [
    {
     "data": {
      "text/html": [
       "<div>\n",
       "<style scoped>\n",
       "    .dataframe tbody tr th:only-of-type {\n",
       "        vertical-align: middle;\n",
       "    }\n",
       "\n",
       "    .dataframe tbody tr th {\n",
       "        vertical-align: top;\n",
       "    }\n",
       "\n",
       "    .dataframe thead th {\n",
       "        text-align: right;\n",
       "    }\n",
       "</style>\n",
       "<table border=\"1\" class=\"dataframe\">\n",
       "  <thead>\n",
       "    <tr style=\"text-align: right;\">\n",
       "      <th></th>\n",
       "      <th>CONTRUCTIONYEAR_decades</th>\n",
       "    </tr>\n",
       "  </thead>\n",
       "  <tbody>\n",
       "    <tr>\n",
       "      <th>0</th>\n",
       "      <td>2000</td>\n",
       "    </tr>\n",
       "    <tr>\n",
       "      <th>1</th>\n",
       "      <td>1990</td>\n",
       "    </tr>\n",
       "    <tr>\n",
       "      <th>2</th>\n",
       "      <td>1990</td>\n",
       "    </tr>\n",
       "    <tr>\n",
       "      <th>3</th>\n",
       "      <td>2000</td>\n",
       "    </tr>\n",
       "    <tr>\n",
       "      <th>4</th>\n",
       "      <td>2000</td>\n",
       "    </tr>\n",
       "    <tr>\n",
       "      <th>5</th>\n",
       "      <td>1950</td>\n",
       "    </tr>\n",
       "    <tr>\n",
       "      <th>6</th>\n",
       "      <td>1970</td>\n",
       "    </tr>\n",
       "    <tr>\n",
       "      <th>7</th>\n",
       "      <td>&lt;1950</td>\n",
       "    </tr>\n",
       "    <tr>\n",
       "      <th>8</th>\n",
       "      <td>1950</td>\n",
       "    </tr>\n",
       "    <tr>\n",
       "      <th>9</th>\n",
       "      <td>1990</td>\n",
       "    </tr>\n",
       "    <tr>\n",
       "      <th>10</th>\n",
       "      <td>1980</td>\n",
       "    </tr>\n",
       "    <tr>\n",
       "      <th>11</th>\n",
       "      <td>1980</td>\n",
       "    </tr>\n",
       "    <tr>\n",
       "      <th>12</th>\n",
       "      <td>1990</td>\n",
       "    </tr>\n",
       "    <tr>\n",
       "      <th>13</th>\n",
       "      <td>&lt;1950</td>\n",
       "    </tr>\n",
       "    <tr>\n",
       "      <th>14</th>\n",
       "      <td>1970</td>\n",
       "    </tr>\n",
       "    <tr>\n",
       "      <th>15</th>\n",
       "      <td>1960</td>\n",
       "    </tr>\n",
       "    <tr>\n",
       "      <th>16</th>\n",
       "      <td>1960</td>\n",
       "    </tr>\n",
       "    <tr>\n",
       "      <th>17</th>\n",
       "      <td>1960</td>\n",
       "    </tr>\n",
       "    <tr>\n",
       "      <th>18</th>\n",
       "      <td>1960</td>\n",
       "    </tr>\n",
       "    <tr>\n",
       "      <th>19</th>\n",
       "      <td>1950</td>\n",
       "    </tr>\n",
       "    <tr>\n",
       "      <th>20</th>\n",
       "      <td>1960</td>\n",
       "    </tr>\n",
       "    <tr>\n",
       "      <th>21</th>\n",
       "      <td>1960</td>\n",
       "    </tr>\n",
       "    <tr>\n",
       "      <th>22</th>\n",
       "      <td>1960</td>\n",
       "    </tr>\n",
       "    <tr>\n",
       "      <th>23</th>\n",
       "      <td>1970</td>\n",
       "    </tr>\n",
       "    <tr>\n",
       "      <th>24</th>\n",
       "      <td>1950</td>\n",
       "    </tr>\n",
       "    <tr>\n",
       "      <th>25</th>\n",
       "      <td>2000</td>\n",
       "    </tr>\n",
       "    <tr>\n",
       "      <th>26</th>\n",
       "      <td>1950</td>\n",
       "    </tr>\n",
       "    <tr>\n",
       "      <th>27</th>\n",
       "      <td>1970</td>\n",
       "    </tr>\n",
       "    <tr>\n",
       "      <th>28</th>\n",
       "      <td>1950</td>\n",
       "    </tr>\n",
       "    <tr>\n",
       "      <th>29</th>\n",
       "      <td>1990</td>\n",
       "    </tr>\n",
       "    <tr>\n",
       "      <th>...</th>\n",
       "      <td>...</td>\n",
       "    </tr>\n",
       "    <tr>\n",
       "      <th>98039</th>\n",
       "      <td>1950</td>\n",
       "    </tr>\n",
       "    <tr>\n",
       "      <th>98040</th>\n",
       "      <td>1950</td>\n",
       "    </tr>\n",
       "    <tr>\n",
       "      <th>98041</th>\n",
       "      <td>&lt;1950</td>\n",
       "    </tr>\n",
       "    <tr>\n",
       "      <th>98042</th>\n",
       "      <td>1970</td>\n",
       "    </tr>\n",
       "    <tr>\n",
       "      <th>98043</th>\n",
       "      <td>1990</td>\n",
       "    </tr>\n",
       "    <tr>\n",
       "      <th>98044</th>\n",
       "      <td>1970</td>\n",
       "    </tr>\n",
       "    <tr>\n",
       "      <th>98045</th>\n",
       "      <td>2000</td>\n",
       "    </tr>\n",
       "    <tr>\n",
       "      <th>98046</th>\n",
       "      <td>1960</td>\n",
       "    </tr>\n",
       "    <tr>\n",
       "      <th>98047</th>\n",
       "      <td>1990</td>\n",
       "    </tr>\n",
       "    <tr>\n",
       "      <th>98048</th>\n",
       "      <td>1980</td>\n",
       "    </tr>\n",
       "    <tr>\n",
       "      <th>98049</th>\n",
       "      <td>1960</td>\n",
       "    </tr>\n",
       "    <tr>\n",
       "      <th>98050</th>\n",
       "      <td>1980</td>\n",
       "    </tr>\n",
       "    <tr>\n",
       "      <th>98051</th>\n",
       "      <td>1950</td>\n",
       "    </tr>\n",
       "    <tr>\n",
       "      <th>98052</th>\n",
       "      <td>&lt;1950</td>\n",
       "    </tr>\n",
       "    <tr>\n",
       "      <th>98053</th>\n",
       "      <td>1950</td>\n",
       "    </tr>\n",
       "    <tr>\n",
       "      <th>98054</th>\n",
       "      <td>1970</td>\n",
       "    </tr>\n",
       "    <tr>\n",
       "      <th>98055</th>\n",
       "      <td>1960</td>\n",
       "    </tr>\n",
       "    <tr>\n",
       "      <th>98056</th>\n",
       "      <td>2000</td>\n",
       "    </tr>\n",
       "    <tr>\n",
       "      <th>98057</th>\n",
       "      <td>2000</td>\n",
       "    </tr>\n",
       "    <tr>\n",
       "      <th>98058</th>\n",
       "      <td>1960</td>\n",
       "    </tr>\n",
       "    <tr>\n",
       "      <th>98059</th>\n",
       "      <td>&lt;1950</td>\n",
       "    </tr>\n",
       "    <tr>\n",
       "      <th>98060</th>\n",
       "      <td>&lt;1950</td>\n",
       "    </tr>\n",
       "    <tr>\n",
       "      <th>98061</th>\n",
       "      <td>1970</td>\n",
       "    </tr>\n",
       "    <tr>\n",
       "      <th>98062</th>\n",
       "      <td>1950</td>\n",
       "    </tr>\n",
       "    <tr>\n",
       "      <th>98063</th>\n",
       "      <td>2000</td>\n",
       "    </tr>\n",
       "    <tr>\n",
       "      <th>98064</th>\n",
       "      <td>2000</td>\n",
       "    </tr>\n",
       "    <tr>\n",
       "      <th>98065</th>\n",
       "      <td>2010</td>\n",
       "    </tr>\n",
       "    <tr>\n",
       "      <th>98066</th>\n",
       "      <td>1970</td>\n",
       "    </tr>\n",
       "    <tr>\n",
       "      <th>98067</th>\n",
       "      <td>1960</td>\n",
       "    </tr>\n",
       "    <tr>\n",
       "      <th>98068</th>\n",
       "      <td>1970</td>\n",
       "    </tr>\n",
       "  </tbody>\n",
       "</table>\n",
       "<p>98069 rows × 1 columns</p>\n",
       "</div>"
      ],
      "text/plain": [
       "      CONTRUCTIONYEAR_decades\n",
       "0                        2000\n",
       "1                        1990\n",
       "2                        1990\n",
       "3                        2000\n",
       "4                        2000\n",
       "...                       ...\n",
       "98064                    2000\n",
       "98065                    2010\n",
       "98066                    1970\n",
       "98067                    1960\n",
       "98068                    1970\n",
       "\n",
       "[98069 rows x 1 columns]"
      ]
     },
     "execution_count": 20,
     "metadata": {},
     "output_type": "execute_result"
    }
   ],
   "source": [
    "byt.transform(df)"
   ]
  },
  {
   "cell_type": "code",
   "execution_count": 15,
   "metadata": {},
   "outputs": [],
   "source": [
    "from src.features.features import BuildingYearDecadesTransformer\n",
    "\n",
    "test = BuildingYearDecadesTransformer(['MAXBUILDINGFLOOR'], [list(range(0,11))])"
   ]
  },
  {
   "cell_type": "code",
   "execution_count": 16,
   "metadata": {},
   "outputs": [
    {
     "data": {
      "text/plain": [
       "BuildingYearDecadesTransformer(decades_groups=[[0, 1, 2, 3, 4, 5, 6, 7, 8, 9,\n",
       "                                                10]],\n",
       "                               keys=['MAXBUILDINGFLOOR'])"
      ]
     },
     "execution_count": 16,
     "metadata": {},
     "output_type": "execute_result"
    }
   ],
   "source": [
    "test.fit(df)"
   ]
  },
  {
   "cell_type": "code",
   "execution_count": 17,
   "metadata": {},
   "outputs": [
    {
     "data": {
      "text/html": [
       "<div>\n",
       "<style scoped>\n",
       "    .dataframe tbody tr th:only-of-type {\n",
       "        vertical-align: middle;\n",
       "    }\n",
       "\n",
       "    .dataframe tbody tr th {\n",
       "        vertical-align: top;\n",
       "    }\n",
       "\n",
       "    .dataframe thead th {\n",
       "        text-align: right;\n",
       "    }\n",
       "</style>\n",
       "<table border=\"1\" class=\"dataframe\">\n",
       "  <thead>\n",
       "    <tr style=\"text-align: right;\">\n",
       "      <th></th>\n",
       "      <th>MAXBUILDINGFLOOR_decades</th>\n",
       "    </tr>\n",
       "  </thead>\n",
       "  <tbody>\n",
       "    <tr>\n",
       "      <th>0</th>\n",
       "      <td>4</td>\n",
       "    </tr>\n",
       "    <tr>\n",
       "      <th>1</th>\n",
       "      <td>3</td>\n",
       "    </tr>\n",
       "    <tr>\n",
       "      <th>2</th>\n",
       "      <td>8</td>\n",
       "    </tr>\n",
       "    <tr>\n",
       "      <th>3</th>\n",
       "      <td>10</td>\n",
       "    </tr>\n",
       "    <tr>\n",
       "      <th>4</th>\n",
       "      <td>1</td>\n",
       "    </tr>\n",
       "    <tr>\n",
       "      <th>5</th>\n",
       "      <td>1</td>\n",
       "    </tr>\n",
       "    <tr>\n",
       "      <th>6</th>\n",
       "      <td>3</td>\n",
       "    </tr>\n",
       "    <tr>\n",
       "      <th>7</th>\n",
       "      <td>7</td>\n",
       "    </tr>\n",
       "    <tr>\n",
       "      <th>8</th>\n",
       "      <td>5</td>\n",
       "    </tr>\n",
       "    <tr>\n",
       "      <th>9</th>\n",
       "      <td>1</td>\n",
       "    </tr>\n",
       "    <tr>\n",
       "      <th>10</th>\n",
       "      <td>2</td>\n",
       "    </tr>\n",
       "    <tr>\n",
       "      <th>11</th>\n",
       "      <td>1</td>\n",
       "    </tr>\n",
       "    <tr>\n",
       "      <th>12</th>\n",
       "      <td>1</td>\n",
       "    </tr>\n",
       "    <tr>\n",
       "      <th>13</th>\n",
       "      <td>5</td>\n",
       "    </tr>\n",
       "    <tr>\n",
       "      <th>14</th>\n",
       "      <td>4</td>\n",
       "    </tr>\n",
       "    <tr>\n",
       "      <th>15</th>\n",
       "      <td>10</td>\n",
       "    </tr>\n",
       "    <tr>\n",
       "      <th>16</th>\n",
       "      <td>4</td>\n",
       "    </tr>\n",
       "    <tr>\n",
       "      <th>17</th>\n",
       "      <td>10</td>\n",
       "    </tr>\n",
       "    <tr>\n",
       "      <th>18</th>\n",
       "      <td>6</td>\n",
       "    </tr>\n",
       "    <tr>\n",
       "      <th>19</th>\n",
       "      <td>7</td>\n",
       "    </tr>\n",
       "    <tr>\n",
       "      <th>20</th>\n",
       "      <td>5</td>\n",
       "    </tr>\n",
       "    <tr>\n",
       "      <th>21</th>\n",
       "      <td>1</td>\n",
       "    </tr>\n",
       "    <tr>\n",
       "      <th>22</th>\n",
       "      <td>1</td>\n",
       "    </tr>\n",
       "    <tr>\n",
       "      <th>23</th>\n",
       "      <td>4</td>\n",
       "    </tr>\n",
       "    <tr>\n",
       "      <th>24</th>\n",
       "      <td>5</td>\n",
       "    </tr>\n",
       "    <tr>\n",
       "      <th>25</th>\n",
       "      <td>&lt;1</td>\n",
       "    </tr>\n",
       "    <tr>\n",
       "      <th>26</th>\n",
       "      <td>1</td>\n",
       "    </tr>\n",
       "    <tr>\n",
       "      <th>27</th>\n",
       "      <td>5</td>\n",
       "    </tr>\n",
       "    <tr>\n",
       "      <th>28</th>\n",
       "      <td>5</td>\n",
       "    </tr>\n",
       "    <tr>\n",
       "      <th>29</th>\n",
       "      <td>1</td>\n",
       "    </tr>\n",
       "    <tr>\n",
       "      <th>...</th>\n",
       "      <td>...</td>\n",
       "    </tr>\n",
       "    <tr>\n",
       "      <th>98039</th>\n",
       "      <td>10</td>\n",
       "    </tr>\n",
       "    <tr>\n",
       "      <th>98040</th>\n",
       "      <td>1</td>\n",
       "    </tr>\n",
       "    <tr>\n",
       "      <th>98041</th>\n",
       "      <td>1</td>\n",
       "    </tr>\n",
       "    <tr>\n",
       "      <th>98042</th>\n",
       "      <td>3</td>\n",
       "    </tr>\n",
       "    <tr>\n",
       "      <th>98043</th>\n",
       "      <td>1</td>\n",
       "    </tr>\n",
       "    <tr>\n",
       "      <th>98044</th>\n",
       "      <td>1</td>\n",
       "    </tr>\n",
       "    <tr>\n",
       "      <th>98045</th>\n",
       "      <td>6</td>\n",
       "    </tr>\n",
       "    <tr>\n",
       "      <th>98046</th>\n",
       "      <td>5</td>\n",
       "    </tr>\n",
       "    <tr>\n",
       "      <th>98047</th>\n",
       "      <td>5</td>\n",
       "    </tr>\n",
       "    <tr>\n",
       "      <th>98048</th>\n",
       "      <td>10</td>\n",
       "    </tr>\n",
       "    <tr>\n",
       "      <th>98049</th>\n",
       "      <td>3</td>\n",
       "    </tr>\n",
       "    <tr>\n",
       "      <th>98050</th>\n",
       "      <td>1</td>\n",
       "    </tr>\n",
       "    <tr>\n",
       "      <th>98051</th>\n",
       "      <td>1</td>\n",
       "    </tr>\n",
       "    <tr>\n",
       "      <th>98052</th>\n",
       "      <td>6</td>\n",
       "    </tr>\n",
       "    <tr>\n",
       "      <th>98053</th>\n",
       "      <td>7</td>\n",
       "    </tr>\n",
       "    <tr>\n",
       "      <th>98054</th>\n",
       "      <td>8</td>\n",
       "    </tr>\n",
       "    <tr>\n",
       "      <th>98055</th>\n",
       "      <td>6</td>\n",
       "    </tr>\n",
       "    <tr>\n",
       "      <th>98056</th>\n",
       "      <td>1</td>\n",
       "    </tr>\n",
       "    <tr>\n",
       "      <th>98057</th>\n",
       "      <td>1</td>\n",
       "    </tr>\n",
       "    <tr>\n",
       "      <th>98058</th>\n",
       "      <td>3</td>\n",
       "    </tr>\n",
       "    <tr>\n",
       "      <th>98059</th>\n",
       "      <td>4</td>\n",
       "    </tr>\n",
       "    <tr>\n",
       "      <th>98060</th>\n",
       "      <td>7</td>\n",
       "    </tr>\n",
       "    <tr>\n",
       "      <th>98061</th>\n",
       "      <td>8</td>\n",
       "    </tr>\n",
       "    <tr>\n",
       "      <th>98062</th>\n",
       "      <td>1</td>\n",
       "    </tr>\n",
       "    <tr>\n",
       "      <th>98063</th>\n",
       "      <td>1</td>\n",
       "    </tr>\n",
       "    <tr>\n",
       "      <th>98064</th>\n",
       "      <td>&lt;1</td>\n",
       "    </tr>\n",
       "    <tr>\n",
       "      <th>98065</th>\n",
       "      <td>1</td>\n",
       "    </tr>\n",
       "    <tr>\n",
       "      <th>98066</th>\n",
       "      <td>10</td>\n",
       "    </tr>\n",
       "    <tr>\n",
       "      <th>98067</th>\n",
       "      <td>4</td>\n",
       "    </tr>\n",
       "    <tr>\n",
       "      <th>98068</th>\n",
       "      <td>1</td>\n",
       "    </tr>\n",
       "  </tbody>\n",
       "</table>\n",
       "<p>98069 rows × 1 columns</p>\n",
       "</div>"
      ],
      "text/plain": [
       "      MAXBUILDINGFLOOR_decades\n",
       "0                            4\n",
       "1                            3\n",
       "2                            8\n",
       "3                           10\n",
       "4                            1\n",
       "...                        ...\n",
       "98064                       <1\n",
       "98065                        1\n",
       "98066                       10\n",
       "98067                        4\n",
       "98068                        1\n",
       "\n",
       "[98069 rows x 1 columns]"
      ]
     },
     "execution_count": 17,
     "metadata": {},
     "output_type": "execute_result"
    }
   ],
   "source": [
    "test.transform(df)"
   ]
  },
  {
   "cell_type": "code",
   "execution_count": 147,
   "metadata": {},
   "outputs": [],
   "source": [
    "min_val = 10\n",
    "max_val = 30\n",
    "test_val = 79"
   ]
  },
  {
   "cell_type": "code",
   "execution_count": 148,
   "metadata": {},
   "outputs": [
    {
     "data": {
      "text/plain": [
       "30"
      ]
     },
     "execution_count": 148,
     "metadata": {},
     "output_type": "execute_result"
    }
   ],
   "source": [
    "min(max(min_val, test_val), max_val)"
   ]
  },
  {
   "cell_type": "code",
   "execution_count": null,
   "metadata": {},
   "outputs": [],
   "source": []
  }
 ],
 "metadata": {
  "kernelspec": {
   "display_name": "Python 3",
   "language": "python",
   "name": "python3"
  },
  "language_info": {
   "codemirror_mode": {
    "name": "ipython",
    "version": 3
   },
   "file_extension": ".py",
   "mimetype": "text/x-python",
   "name": "python",
   "nbconvert_exporter": "python",
   "pygments_lexer": "ipython3",
   "version": "3.7.3"
  }
 },
 "nbformat": 4,
 "nbformat_minor": 2
}
