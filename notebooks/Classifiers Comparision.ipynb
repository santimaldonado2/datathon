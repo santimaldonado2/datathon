{
 "cells": [
  {
   "cell_type": "code",
   "execution_count": 73,
   "metadata": {},
   "outputs": [],
   "source": [
    "import sys\n",
    "import os\n",
    "sys.path.insert(0, os.path.abspath('/home/maldo/projects/virtualenvs/datathon/lib/python3.7/site-packages'))\n",
    "sys.path.insert(0, os.path.abspath('/home/maldo/projects/datathon'))\n",
    "from imblearn.under_sampling import *\n",
    "from imblearn.over_sampling import *\n",
    "from imblearn.combine import *\n",
    "from src.models.model import SoilClassifier\n",
    "from src.constants import *\n",
    "from sklearn.base import clone\n",
    "from src.features.features import ImbalanceTransformer\n",
    "import pandas as pd\n",
    "import seaborn as sns\n",
    "import math"
   ]
  },
  {
   "cell_type": "code",
   "execution_count": 74,
   "metadata": {},
   "outputs": [],
   "source": [
    "df = pd.read_csv(os.path.join('../data/processed', 'train_data.csv'))\n",
    "df_test = pd.read_csv(os.path.join('../data/processed', 'test_data.csv'))\n",
    "min_samples = 500\n",
    "max_samples = 9000\n",
    "features = ['not_correlated', 'cadastral_ordinal_encoder_onehot', 'log_area', 'log_antiquity', 'squared_geoms', 'pssr', 'savi']\n",
    "classifier = 'gradient_boosting'"
   ]
  },
  {
   "cell_type": "code",
   "execution_count": 77,
   "metadata": {},
   "outputs": [],
   "source": [
    "model = SoilClassifier(min_samples = min_samples,\n",
    "                       max_samples = max_samples,\n",
    "                       feature_names = features,\n",
    "                       classifier = classifier)"
   ]
  },
  {
   "cell_type": "code",
   "execution_count": 78,
   "metadata": {},
   "outputs": [],
   "source": [
    "model.fit(df, df[TARGET_FEATURE])"
   ]
  },
  {
   "cell_type": "code",
   "execution_count": 11,
   "metadata": {},
   "outputs": [],
   "source": [
    "pipe = clone(model.pipeline)\n",
    "clsf = pipe.steps.pop()\n",
    "imb = pipe.steps.pop()"
   ]
  },
  {
   "cell_type": "code",
   "execution_count": 12,
   "metadata": {},
   "outputs": [],
   "source": [
    "transformed_data = pipe.fit_transform(df)"
   ]
  },
  {
   "cell_type": "code",
   "execution_count": 13,
   "metadata": {},
   "outputs": [],
   "source": [
    "transformed_data = pd.DataFrame(transformed_data, columns=pipe.named_steps['features'].get_feature_names())"
   ]
  },
  {
   "cell_type": "code",
   "execution_count": 14,
   "metadata": {},
   "outputs": [],
   "source": [
    "imbt = ImbalanceTransformer(min_samples=min_samples, max_samples=max_samples)"
   ]
  },
  {
   "cell_type": "code",
   "execution_count": null,
   "metadata": {},
   "outputs": [],
   "source": [
    "X_train ,y_train = imbt.fit_resample(transformed_data, df[TARGET_FEATURE])"
   ]
  },
  {
   "cell_type": "code",
   "execution_count": 69,
   "metadata": {},
   "outputs": [],
   "source": [
    "X_test = pipe.transform(df_test)\n",
    "X_test = pd.DataFrame(X_test, columns=pipe.named_steps['features'].get_feature_names())\n",
    "y_test = df_test[TARGET_FEATURE]"
   ]
  },
  {
   "cell_type": "code",
   "execution_count": 17,
   "metadata": {},
   "outputs": [
    {
     "name": "stdout",
     "output_type": "stream",
     "text": [
      "(19597, 40) (19597,)\n",
      "(20646, 40) (20646,)\n"
     ]
    }
   ],
   "source": [
    "print(X_train.shape, y_train.shape)\n",
    "print(X_test.shape, y_test.shape)"
   ]
  },
  {
   "cell_type": "code",
   "execution_count": 71,
   "metadata": {},
   "outputs": [],
   "source": [
    "X_train.to_csv('../data/interim/X_train.csv', index=False)\n",
    "y_train.to_csv('../data/interim/y_train.csv', index=False)\n",
    "X_test.to_csv('../data/interim/X_test.csv', index=False)\n",
    "y_test.to_csv('../data/interim/y_test.csv', index=False)"
   ]
  },
  {
   "cell_type": "markdown",
   "metadata": {},
   "source": [
    "# Results Comparision"
   ]
  },
  {
   "cell_type": "code",
   "execution_count": 5,
   "metadata": {},
   "outputs": [
    {
     "data": {
      "text/html": [
       "<div>\n",
       "<style scoped>\n",
       "    .dataframe tbody tr th:only-of-type {\n",
       "        vertical-align: middle;\n",
       "    }\n",
       "\n",
       "    .dataframe tbody tr th {\n",
       "        vertical-align: top;\n",
       "    }\n",
       "\n",
       "    .dataframe thead th {\n",
       "        text-align: right;\n",
       "    }\n",
       "</style>\n",
       "<table border=\"1\" class=\"dataframe\">\n",
       "  <thead>\n",
       "    <tr style=\"text-align: right;\">\n",
       "      <th></th>\n",
       "      <th>best_params</th>\n",
       "      <th>model</th>\n",
       "      <th>test_accuracy</th>\n",
       "      <th>test_balanced_accuracy</th>\n",
       "      <th>test_custom_accuracy</th>\n",
       "      <th>test_f1_macro</th>\n",
       "      <th>test_f1_weighted</th>\n",
       "      <th>test_precision_macro</th>\n",
       "      <th>test_precision_weighted</th>\n",
       "      <th>test_recall_macro</th>\n",
       "      <th>test_recall_weighted</th>\n",
       "      <th>train_accuracy</th>\n",
       "      <th>train_balanced_accuracy</th>\n",
       "      <th>train_custom_accuracy</th>\n",
       "      <th>train_f1_macro</th>\n",
       "      <th>train_f1_weighted</th>\n",
       "      <th>train_precision_macro</th>\n",
       "      <th>train_precision_weighted</th>\n",
       "      <th>train_recall_macro</th>\n",
       "      <th>train_recall_weighted</th>\n",
       "    </tr>\n",
       "  </thead>\n",
       "  <tbody>\n",
       "    <tr>\n",
       "      <th>0</th>\n",
       "      <td>{'max_depth': 7, 'max_features': None, 'min_sa...</td>\n",
       "      <td>gradient_boosting</td>\n",
       "      <td>0.8614743776034098</td>\n",
       "      <td>0.503262</td>\n",
       "      <td>0.669340</td>\n",
       "      <td>0.480835</td>\n",
       "      <td>0.869747</td>\n",
       "      <td>0.474157</td>\n",
       "      <td>0.881656</td>\n",
       "      <td>0.503262</td>\n",
       "      <td>0.861474</td>\n",
       "      <td>0.829464</td>\n",
       "      <td>0.758908</td>\n",
       "      <td>0.742639</td>\n",
       "      <td>0.800947</td>\n",
       "      <td>0.821070</td>\n",
       "      <td>0.874306</td>\n",
       "      <td>0.837151</td>\n",
       "      <td>0.758908</td>\n",
       "      <td>0.829464</td>\n",
       "    </tr>\n",
       "    <tr>\n",
       "      <th>3</th>\n",
       "      <td>{'max_depth': 7, 'max_features': None, 'min_sa...</td>\n",
       "      <td>random_forest</td>\n",
       "      <td>0.8492201879298653</td>\n",
       "      <td>0.412060</td>\n",
       "      <td>0.624689</td>\n",
       "      <td>0.399960</td>\n",
       "      <td>0.853495</td>\n",
       "      <td>0.515409</td>\n",
       "      <td>0.877104</td>\n",
       "      <td>0.412060</td>\n",
       "      <td>0.849220</td>\n",
       "      <td>0.658009</td>\n",
       "      <td>0.478290</td>\n",
       "      <td>0.485627</td>\n",
       "      <td>0.504643</td>\n",
       "      <td>0.613682</td>\n",
       "      <td>0.684980</td>\n",
       "      <td>0.666146</td>\n",
       "      <td>0.478290</td>\n",
       "      <td>0.658009</td>\n",
       "    </tr>\n",
       "    <tr>\n",
       "      <th>4</th>\n",
       "      <td>{'kernel': 'linear', 'gamma': 0.001, 'C': 100}</td>\n",
       "      <td>support_vector_machine</td>\n",
       "      <td>0.8474765087668313</td>\n",
       "      <td>0.381993</td>\n",
       "      <td>0.586559</td>\n",
       "      <td>0.346485</td>\n",
       "      <td>0.843154</td>\n",
       "      <td>0.338716</td>\n",
       "      <td>0.842352</td>\n",
       "      <td>0.381993</td>\n",
       "      <td>0.847477</td>\n",
       "      <td>0.603000</td>\n",
       "      <td>0.411168</td>\n",
       "      <td>0.397543</td>\n",
       "      <td>0.415546</td>\n",
       "      <td>0.541844</td>\n",
       "      <td>0.572980</td>\n",
       "      <td>0.588513</td>\n",
       "      <td>0.411168</td>\n",
       "      <td>0.603000</td>\n",
       "    </tr>\n",
       "    <tr>\n",
       "      <th>1</th>\n",
       "      <td>{'solver': 'svd', 'alpha': 1}</td>\n",
       "      <td>ridge</td>\n",
       "      <td>0.863508669ju9602829</td>\n",
       "      <td>0.288129</td>\n",
       "      <td>0.558973</td>\n",
       "      <td>0.298245</td>\n",
       "      <td>0.844236</td>\n",
       "      <td>0.424419</td>\n",
       "      <td>0.835680</td>\n",
       "      <td>0.288129</td>\n",
       "      <td>0.863509</td>\n",
       "      <td>0.573455</td>\n",
       "      <td>0.299191</td>\n",
       "      <td>0.315293</td>\n",
       "      <td>0.307139</td>\n",
       "      <td>0.488095</td>\n",
       "      <td>0.490419</td>\n",
       "      <td>0.507149</td>\n",
       "      <td>0.299191</td>\n",
       "      <td>0.573455</td>\n",
       "    </tr>\n",
       "    <tr>\n",
       "      <th>2</th>\n",
       "      <td>{'shrinkage': 0.09845651447194592, 'solver': '...</td>\n",
       "      <td>lda</td>\n",
       "      <td>0.8302818947980238</td>\n",
       "      <td>0.330487</td>\n",
       "      <td>0.551515</td>\n",
       "      <td>0.281280</td>\n",
       "      <td>0.827109</td>\n",
       "      <td>0.288782</td>\n",
       "      <td>0.828526</td>\n",
       "      <td>0.330487</td>\n",
       "      <td>0.830282</td>\n",
       "      <td>0.566719</td>\n",
       "      <td>0.362188</td>\n",
       "      <td>0.345080</td>\n",
       "      <td>0.357705</td>\n",
       "      <td>0.497773</td>\n",
       "      <td>0.419672</td>\n",
       "      <td>0.489156</td>\n",
       "      <td>0.362188</td>\n",
       "      <td>0.566719</td>\n",
       "    </tr>\n",
       "  </tbody>\n",
       "</table>\n",
       "</div>"
      ],
      "text/plain": [
       "                                         best_params                   model  \\\n",
       "0  {'max_depth': 7, 'max_features': None, 'min_sa...       gradient_boosting   \n",
       "3  {'max_depth': 7, 'max_features': None, 'min_sa...           random_forest   \n",
       "4     {'kernel': 'linear', 'gamma': 0.001, 'C': 100}  support_vector_machine   \n",
       "1                      {'solver': 'svd', 'alpha': 1}                   ridge   \n",
       "2  {'shrinkage': 0.09845651447194592, 'solver': '...                     lda   \n",
       "\n",
       "          test_accuracy  test_balanced_accuracy  test_custom_accuracy  \\\n",
       "0    0.8614743776034098                0.503262              0.669340   \n",
       "3    0.8492201879298653                0.412060              0.624689   \n",
       "4    0.8474765087668313                0.381993              0.586559   \n",
       "1  0.863508669ju9602829                0.288129              0.558973   \n",
       "2    0.8302818947980238                0.330487              0.551515   \n",
       "\n",
       "   test_f1_macro  test_f1_weighted  test_precision_macro  \\\n",
       "0       0.480835          0.869747              0.474157   \n",
       "3       0.399960          0.853495              0.515409   \n",
       "4       0.346485          0.843154              0.338716   \n",
       "1       0.298245          0.844236              0.424419   \n",
       "2       0.281280          0.827109              0.288782   \n",
       "\n",
       "   test_precision_weighted  test_recall_macro  test_recall_weighted  \\\n",
       "0                 0.881656           0.503262              0.861474   \n",
       "3                 0.877104           0.412060              0.849220   \n",
       "4                 0.842352           0.381993              0.847477   \n",
       "1                 0.835680           0.288129              0.863509   \n",
       "2                 0.828526           0.330487              0.830282   \n",
       "\n",
       "   train_accuracy  train_balanced_accuracy  train_custom_accuracy  \\\n",
       "0        0.829464                 0.758908               0.742639   \n",
       "3        0.658009                 0.478290               0.485627   \n",
       "4        0.603000                 0.411168               0.397543   \n",
       "1        0.573455                 0.299191               0.315293   \n",
       "2        0.566719                 0.362188               0.345080   \n",
       "\n",
       "   train_f1_macro  train_f1_weighted  train_precision_macro  \\\n",
       "0        0.800947           0.821070               0.874306   \n",
       "3        0.504643           0.613682               0.684980   \n",
       "4        0.415546           0.541844               0.572980   \n",
       "1        0.307139           0.488095               0.490419   \n",
       "2        0.357705           0.497773               0.419672   \n",
       "\n",
       "   train_precision_weighted  train_recall_macro  train_recall_weighted  \n",
       "0                  0.837151            0.758908               0.829464  \n",
       "3                  0.666146            0.478290               0.658009  \n",
       "4                  0.588513            0.411168               0.603000  \n",
       "1                  0.507149            0.299191               0.573455  \n",
       "2                  0.489156            0.362188               0.566719  "
      ]
     },
     "execution_count": 5,
     "metadata": {},
     "output_type": "execute_result"
    }
   ],
   "source": [
    "pd.read_csv('../src/experiments/results/classifierComparisons/results.csv').sort_values('test_custom_accuracy', ascending=False)"
   ]
  },
  {
   "cell_type": "code",
   "execution_count": null,
   "metadata": {},
   "outputs": [],
   "source": []
  }
 ],
 "metadata": {
  "kernelspec": {
   "display_name": "Python 3",
   "language": "python",
   "name": "python3"
  },
  "language_info": {
   "codemirror_mode": {
    "name": "ipython",
    "version": 3
   },
   "file_extension": ".py",
   "mimetype": "text/x-python",
   "name": "python",
   "nbconvert_exporter": "python",
   "pygments_lexer": "ipython3",
   "version": "3.7.3"
  }
 },
 "nbformat": 4,
 "nbformat_minor": 2
}
